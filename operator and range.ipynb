{
 "cells": [
  {
   "cell_type": "markdown",
   "id": "c1e2ed31-8db6-48bf-864f-312293819e5b",
   "metadata": {},
   "source": [
    "# bit wise operator"
   ]
  },
  {
   "cell_type": "markdown",
   "id": "74a9cc6b-06c4-4f08-8b70-600c87a376f7",
   "metadata": {},
   "source": [
    "compliment\n"
   ]
  },
  {
   "cell_type": "code",
   "execution_count": 1,
   "id": "feeeb964-37ea-44b2-8ec8-e9f3f682d276",
   "metadata": {},
   "outputs": [
    {
     "data": {
      "text/plain": [
       "-46"
      ]
     },
     "execution_count": 1,
     "metadata": {},
     "output_type": "execute_result"
    }
   ],
   "source": [
    "~45"
   ]
  },
  {
   "cell_type": "code",
   "execution_count": 2,
   "id": "0c96a3cd-bedd-45ee-a013-9e4151ce92b5",
   "metadata": {},
   "outputs": [
    {
     "data": {
      "text/plain": [
       "-24"
      ]
     },
     "execution_count": 2,
     "metadata": {},
     "output_type": "execute_result"
    }
   ],
   "source": [
    "~23"
   ]
  },
  {
   "cell_type": "code",
   "execution_count": null,
   "id": "7087af3d-6cdc-469c-86e0-347c7c889fa8",
   "metadata": {},
   "outputs": [],
   "source": [
    "it gives result after adding one value and givingoutput in -minus form"
   ]
  },
  {
   "cell_type": "code",
   "execution_count": null,
   "id": "7b18d5e6-193c-4ba8-918a-d88a3423b875",
   "metadata": {},
   "outputs": [],
   "source": [
    "when we give -negative input then -minus-minus becomes plus"
   ]
  },
  {
   "cell_type": "code",
   "execution_count": 3,
   "id": "266764d9-2ef6-4453-a338-ae43ad86cc88",
   "metadata": {},
   "outputs": [
    {
     "data": {
      "text/plain": [
       "33"
      ]
     },
     "execution_count": 3,
     "metadata": {},
     "output_type": "execute_result"
    }
   ],
   "source": [
    "~-34"
   ]
  },
  {
   "cell_type": "code",
   "execution_count": 4,
   "id": "e6af0eac-f2b9-4d1b-9f10-f4a0ef0e72fd",
   "metadata": {},
   "outputs": [
    {
     "data": {
      "text/plain": [
       "-2"
      ]
     },
     "execution_count": 4,
     "metadata": {},
     "output_type": "execute_result"
    }
   ],
   "source": [
    "~1"
   ]
  },
  {
   "cell_type": "code",
   "execution_count": 5,
   "id": "3469d787-9156-4fde-87d3-a6b2167ac701",
   "metadata": {},
   "outputs": [
    {
     "data": {
      "text/plain": [
       "-1"
      ]
     },
     "execution_count": 5,
     "metadata": {},
     "output_type": "execute_result"
    }
   ],
   "source": [
    "~0"
   ]
  },
  {
   "cell_type": "markdown",
   "id": "b362b79d-34d8-4000-8f80-6b9dc5e826e7",
   "metadata": {},
   "source": [
    "# and operator"
   ]
  },
  {
   "cell_type": "code",
   "execution_count": 6,
   "id": "e04c273a-f540-49d4-b188-9461248286ee",
   "metadata": {},
   "outputs": [
    {
     "ename": "SyntaxError",
     "evalue": "cannot assign to expression here. Maybe you meant '==' instead of '='? (2163028023.py, line 1)",
     "output_type": "error",
     "traceback": [
      "\u001b[1;36m  Cell \u001b[1;32mIn[6], line 1\u001b[1;36m\u001b[0m\n\u001b[1;33m    0&0= 0\u001b[0m\n\u001b[1;37m    ^\u001b[0m\n\u001b[1;31mSyntaxError\u001b[0m\u001b[1;31m:\u001b[0m cannot assign to expression here. Maybe you meant '==' instead of '='?\n"
     ]
    }
   ],
   "source": [
    "0&0= 0\n",
    "0&1=0\n",
    "1&0=0\n",
    "1&1=1"
   ]
  },
  {
   "cell_type": "code",
   "execution_count": 8,
   "id": "41ac218f-0e3d-4907-8054-354941e4263f",
   "metadata": {},
   "outputs": [
    {
     "data": {
      "text/plain": [
       "'0b101000'"
      ]
     },
     "execution_count": 8,
     "metadata": {},
     "output_type": "execute_result"
    }
   ],
   "source": [
    "bin(40)"
   ]
  },
  {
   "cell_type": "code",
   "execution_count": 9,
   "id": "503fca12-c607-4ea9-acbf-b07b8a7451f0",
   "metadata": {},
   "outputs": [
    {
     "data": {
      "text/plain": [
       "32"
      ]
     },
     "execution_count": 9,
     "metadata": {},
     "output_type": "execute_result"
    }
   ],
   "source": [
    "35&40"
   ]
  },
  {
   "cell_type": "code",
   "execution_count": null,
   "id": "4967942f-1ebc-411c-9829-1b83c3d47bbb",
   "metadata": {},
   "outputs": [],
   "source": [
    "this is and ooperator"
   ]
  },
  {
   "cell_type": "code",
   "execution_count": null,
   "id": "23afb749-605f-434e-a942-f093fe2a0417",
   "metadata": {},
   "outputs": [],
   "source": [
    "when we give input as35|40 it becomes or operator"
   ]
  },
  {
   "cell_type": "code",
   "execution_count": 10,
   "id": "494a29d7-81ac-4c7c-ac0f-f43af5db9d1b",
   "metadata": {},
   "outputs": [
    {
     "data": {
      "text/plain": [
       "43"
      ]
     },
     "execution_count": 10,
     "metadata": {},
     "output_type": "execute_result"
    }
   ],
   "source": [
    "35|40\n"
   ]
  },
  {
   "cell_type": "code",
   "execution_count": 11,
   "id": "58f32f90-30a1-428e-be5e-415701f5d8a2",
   "metadata": {},
   "outputs": [
    {
     "data": {
      "text/plain": [
       "7"
      ]
     },
     "execution_count": 11,
     "metadata": {},
     "output_type": "execute_result"
    }
   ],
   "source": [
    "25^30 nor operator"
   ]
  },
  {
   "cell_type": "markdown",
   "id": "4816a1d2-c6e1-43d5-a7f9-ce96c4194c25",
   "metadata": {},
   "source": [
    "left shift operator "
   ]
  },
  {
   "cell_type": "code",
   "execution_count": 1,
   "id": "6417b174-3e64-4422-a0fb-a576c07ea7c9",
   "metadata": {},
   "outputs": [
    {
     "data": {
      "text/plain": [
       "40"
      ]
     },
     "execution_count": 1,
     "metadata": {},
     "output_type": "execute_result"
    }
   ],
   "source": [
    "10<<2"
   ]
  },
  {
   "cell_type": "code",
   "execution_count": 2,
   "id": "89f3db49-f714-48d2-a1cf-09c20ea28e9c",
   "metadata": {},
   "outputs": [
    {
     "data": {
      "text/plain": [
       "272"
      ]
     },
     "execution_count": 2,
     "metadata": {},
     "output_type": "execute_result"
    }
   ],
   "source": [
    "34<<3  it basically adds two zeros to the input then we have to calculate from there"
   ]
  },
  {
   "cell_type": "markdown",
   "id": "1fab82f2-8191-42e1-9425-295cb25b3792",
   "metadata": {},
   "source": [
    "right shift"
   ]
  },
  {
   "cell_type": "code",
   "execution_count": 3,
   "id": "68cb722b-49a5-4f18-a6ed-da941de5d632",
   "metadata": {
    "collapsed": true,
    "jupyter": {
     "outputs_hidden": true
    }
   },
   "outputs": [
    {
     "data": {
      "text/plain": [
       "5"
      ]
     },
     "execution_count": 3,
     "metadata": {},
     "output_type": "execute_result"
    }
   ],
   "source": [
    "20>>2"
   ]
  },
  {
   "cell_type": "code",
   "execution_count": null,
   "id": "82adc880-22a5-4bf1-bccf-31f0b0ace88d",
   "metadata": {},
   "outputs": [],
   "source": [
    "how it is done 0b10100 left2= <<2  that will be 0b1010000"
   ]
  },
  {
   "cell_type": "code",
   "execution_count": 4,
   "id": "4ec80a17-be01-4ff7-ac0e-1fb87b254467",
   "metadata": {},
   "outputs": [
    {
     "data": {
      "text/plain": [
       "80"
      ]
     },
     "execution_count": 4,
     "metadata": {},
     "output_type": "execute_result"
    }
   ],
   "source": [
    "20<<2"
   ]
  },
  {
   "cell_type": "markdown",
   "id": "5e593b83-fe2b-4d86-831e-daed7ca9855d",
   "metadata": {},
   "source": [
    "# import math module function"
   ]
  },
  {
   "cell_type": "code",
   "execution_count": 5,
   "id": "7dbd8684-bf5a-47e9-ac53-9cc0678a9d5b",
   "metadata": {},
   "outputs": [
    {
     "ename": "NameError",
     "evalue": "name 'sqrt' is not defined",
     "output_type": "error",
     "traceback": [
      "\u001b[1;31m---------------------------------------------------------------------------\u001b[0m",
      "\u001b[1;31mNameError\u001b[0m                                 Traceback (most recent call last)",
      "Cell \u001b[1;32mIn[5], line 1\u001b[0m\n\u001b[1;32m----> 1\u001b[0m x\u001b[38;5;241m=\u001b[39msqrt(\u001b[38;5;241m25\u001b[39m)\n",
      "\u001b[1;31mNameError\u001b[0m: name 'sqrt' is not defined"
     ]
    }
   ],
   "source": [
    "x=sqrt(25)"
   ]
  },
  {
   "cell_type": "code",
   "execution_count": 7,
   "id": "e3299bf6-4db1-4cf2-94f6-6a038ebc4644",
   "metadata": {},
   "outputs": [],
   "source": [
    "import math  as m"
   ]
  },
  {
   "cell_type": "code",
   "execution_count": 9,
   "id": "3b05c046-07f2-45d0-86cc-233732b9d725",
   "metadata": {},
   "outputs": [
    {
     "data": {
      "text/plain": [
       "5.0"
      ]
     },
     "execution_count": 9,
     "metadata": {},
     "output_type": "execute_result"
    }
   ],
   "source": [
    "x = m.sqrt(25)\n",
    "x"
   ]
  },
  {
   "cell_type": "markdown",
   "id": "06fd44bc-5813-4b44-ac49-2e5a095fa8b9",
   "metadata": {},
   "source": [
    "this imports all the mathematical functions"
   ]
  },
  {
   "cell_type": "code",
   "execution_count": 11,
   "id": "fac4c3f9-2eef-47ac-9af1-5074b4d54ec5",
   "metadata": {},
   "outputs": [
    {
     "data": {
      "text/plain": [
       "25.0"
      ]
     },
     "execution_count": 11,
     "metadata": {},
     "output_type": "execute_result"
    }
   ],
   "source": [
    "x2 = m.sqrt(625)\n",
    "x2"
   ]
  },
  {
   "cell_type": "markdown",
   "id": "1941b34d-661b-4c20-8f12-e97307870505",
   "metadata": {},
   "source": [
    "# floor = minimum ceil = maximum"
   ]
  },
  {
   "cell_type": "code",
   "execution_count": 12,
   "id": "6b61f35e-8fb6-45c0-9c3f-c97a288c6539",
   "metadata": {},
   "outputs": [
    {
     "name": "stdout",
     "output_type": "stream",
     "text": [
      "2\n"
     ]
    }
   ],
   "source": [
    "print(m.floor(2.9))"
   ]
  },
  {
   "cell_type": "code",
   "execution_count": 13,
   "id": "d6c50cbf-22cc-4280-a33e-ef4b1fc67bfa",
   "metadata": {},
   "outputs": [
    {
     "name": "stdout",
     "output_type": "stream",
     "text": [
      "3\n"
     ]
    }
   ],
   "source": [
    "print(m.ceil(2.9))"
   ]
  },
  {
   "cell_type": "code",
   "execution_count": 14,
   "id": "70b54b59-9c00-422f-8a4d-1db2fca74300",
   "metadata": {},
   "outputs": [
    {
     "name": "stdout",
     "output_type": "stream",
     "text": [
      "1024.0\n"
     ]
    }
   ],
   "source": [
    "print(m.pow(4,5))"
   ]
  },
  {
   "cell_type": "markdown",
   "id": "c0a3effa-86db-4d6f-a9e0-7c3bc55b468d",
   "metadata": {},
   "source": [
    "user input function"
   ]
  },
  {
   "cell_type": "code",
   "execution_count": 17,
   "id": "bbca1111-7e43-4bdf-8102-f4f84976e390",
   "metadata": {},
   "outputs": [
    {
     "name": "stdin",
     "output_type": "stream",
     "text": [
      " 8\n",
      " 9\n"
     ]
    }
   ],
   "source": [
    "x = input()\n",
    "y = input()\n",
    "z = x+y"
   ]
  },
  {
   "cell_type": "code",
   "execution_count": 18,
   "id": "35553b5d-d437-47a4-8a14-a4596edbb60f",
   "metadata": {},
   "outputs": [
    {
     "name": "stdout",
     "output_type": "stream",
     "text": [
      "89\n"
     ]
    }
   ],
   "source": [
    "print(z)"
   ]
  },
  {
   "cell_type": "code",
   "execution_count": 24,
   "id": "1aa15f67-443a-4643-a952-6a6b3b936944",
   "metadata": {},
   "outputs": [
    {
     "name": "stdin",
     "output_type": "stream",
     "text": [
      "enter the 1st number 8\n",
      "enter the 2nd number 3\n"
     ]
    },
    {
     "name": "stdout",
     "output_type": "stream",
     "text": [
      "11\n"
     ]
    }
   ],
   "source": [
    "x1 = int(input('enter the 1st number'))\n",
    "y1 = int(input('enter the 2nd number'))\n",
    "z1 = x1+y1\n",
    "print(z1)\n"
   ]
  },
  {
   "cell_type": "code",
   "execution_count": 23,
   "id": "624f7b61-e9d8-4fd1-850c-c70a9cd5f701",
   "metadata": {},
   "outputs": [
    {
     "name": "stdin",
     "output_type": "stream",
     "text": [
      " enter the 1st number 9\n",
      "enter the 2nd number 3\n"
     ]
    },
    {
     "name": "stdout",
     "output_type": "stream",
     "text": [
      "12\n"
     ]
    }
   ],
   "source": [
    "a1 = input(' enter the 1st number')\n",
    "x1 = int(a1)\n",
    "b1 = input('enter the 2nd number')\n",
    "x2 = int(b1)\n",
    "z1 = x1+x2\n",
    "print(z1)"
   ]
  },
  {
   "cell_type": "code",
   "execution_count": 25,
   "id": "9a1606b5-70c5-408f-a154-71c7e7abded2",
   "metadata": {},
   "outputs": [
    {
     "name": "stdin",
     "output_type": "stream",
     "text": [
      "enter the char hello guyz leta start todays session\n"
     ]
    },
    {
     "name": "stdout",
     "output_type": "stream",
     "text": [
      "hello guyz leta start todays session\n"
     ]
    }
   ],
   "source": [
    "ch = input(\"enter the char\")\n",
    "print(ch)"
   ]
  },
  {
   "cell_type": "code",
   "execution_count": 26,
   "id": "06b1226e-2500-483c-825c-ffb3b9e4404c",
   "metadata": {},
   "outputs": [
    {
     "name": "stdin",
     "output_type": "stream",
     "text": [
      "enter the char shcbhfhsbcjcbskdbjklkjsncnjwjdjsjdc\n"
     ]
    },
    {
     "name": "stdout",
     "output_type": "stream",
     "text": [
      "shcbhfhsbcjcbskdbjklkjsncnjwjdjsjdc\n"
     ]
    }
   ],
   "source": [
    "ch = input(\"enter the char\")\n",
    "print(ch)"
   ]
  },
  {
   "cell_type": "code",
   "execution_count": 27,
   "id": "3bc82f18-3f36-4bb2-b2a0-f0e1fbf8f875",
   "metadata": {},
   "outputs": [
    {
     "name": "stdout",
     "output_type": "stream",
     "text": [
      "f\n"
     ]
    }
   ],
   "source": [
    "print(ch[5])"
   ]
  },
  {
   "cell_type": "code",
   "execution_count": 29,
   "id": "cf5ae70e-6d3d-477c-b848-c6ef7b29c5ce",
   "metadata": {},
   "outputs": [
    {
     "name": "stdout",
     "output_type": "stream",
     "text": [
      "fhsbcjcbs\n"
     ]
    }
   ],
   "source": [
    "print(ch[5:14])"
   ]
  },
  {
   "cell_type": "code",
   "execution_count": 33,
   "id": "f7c77345-1921-4c9c-9ddb-931778110fbd",
   "metadata": {},
   "outputs": [
    {
     "name": "stdin",
     "output_type": "stream",
     "text": [
      "enter a char hello\n"
     ]
    },
    {
     "name": "stdout",
     "output_type": "stream",
     "text": [
      "l\n"
     ]
    }
   ],
   "source": [
    "ch = input(\"enter a char\")[2]\n",
    "print(ch)"
   ]
  },
  {
   "cell_type": "code",
   "execution_count": 36,
   "id": "5c354525-c0e0-4da3-b09d-815ecd3195ba",
   "metadata": {},
   "outputs": [
    {
     "name": "stdout",
     "output_type": "stream",
     "text": [
      "7\n"
     ]
    }
   ],
   "source": [
    "x = 3\n",
    "y= 4\n",
    "z= x+y\n",
    "print(z)"
   ]
  },
  {
   "cell_type": "code",
   "execution_count": 38,
   "id": "0519846d-f8fd-4d6c-ae2a-0d98520f243f",
   "metadata": {},
   "outputs": [
    {
     "name": "stdin",
     "output_type": "stream",
     "text": [
      " 9\n",
      " 6\n"
     ]
    },
    {
     "name": "stdout",
     "output_type": "stream",
     "text": [
      "96\n"
     ]
    }
   ],
   "source": [
    "x1 = input()\n",
    "y1 = input()\n",
    "z1 = x1+y1\n",
    "print(z1)"
   ]
  },
  {
   "cell_type": "code",
   "execution_count": 40,
   "id": "3b19aaae-97b5-45b6-b4ec-115d185d984f",
   "metadata": {},
   "outputs": [
    {
     "name": "stdin",
     "output_type": "stream",
     "text": [
      "enter the 1st numbr 7\n",
      "enter the 2nd number 3\n"
     ]
    },
    {
     "name": "stdout",
     "output_type": "stream",
     "text": [
      "10\n"
     ]
    }
   ],
   "source": [
    "x2= int(input(\"enter the 1st numbr\"))\n",
    "y2=int(input(\"enter the 2nd number\"))\n",
    "z2=x2+y2\n",
    "print(z2)"
   ]
  },
  {
   "cell_type": "markdown",
   "id": "253803b8-7959-4b7e-a088-ed12b1100137",
   "metadata": {},
   "source": [
    "# eval function"
   ]
  },
  {
   "cell_type": "code",
   "execution_count": 41,
   "id": "84a68eed-3a9a-4829-a4cf-8822ba0599df",
   "metadata": {},
   "outputs": [
    {
     "name": "stdin",
     "output_type": "stream",
     "text": [
      "enter the value 5+3+45+234+34-67\n"
     ]
    },
    {
     "name": "stdout",
     "output_type": "stream",
     "text": [
      "254\n"
     ]
    }
   ],
   "source": [
    "result=eval(input(\"enter the value\"))\n",
    "print(result)"
   ]
  },
  {
   "cell_type": "code",
   "execution_count": 42,
   "id": "8f1dcde2-45cf-4b36-9c72-9f7b27860286",
   "metadata": {},
   "outputs": [
    {
     "name": "stdin",
     "output_type": "stream",
     "text": [
      "enter the value 2+3+4+5-6+45+12-45*9\n"
     ]
    },
    {
     "name": "stdout",
     "output_type": "stream",
     "text": [
      "-340\n"
     ]
    }
   ],
   "source": [
    "result=eval(input(\"enter the value\"))\n",
    "print(result)"
   ]
  },
  {
   "cell_type": "code",
   "execution_count": null,
   "id": "faa00d6b-64fb-4805-9c89-3d3a1137dbed",
   "metadata": {},
   "outputs": [],
   "source": []
  },
  {
   "cell_type": "code",
   "execution_count": null,
   "id": "1ccb49d6-a919-436c-b97f-d368925e5666",
   "metadata": {},
   "outputs": [],
   "source": []
  },
  {
   "cell_type": "code",
   "execution_count": null,
   "id": "c1118d07-b6af-4e70-a2ba-8bcbf7e0ddd4",
   "metadata": {},
   "outputs": [],
   "source": []
  }
 ],
 "metadata": {
  "kernelspec": {
   "display_name": "Python [conda env:base] *",
   "language": "python",
   "name": "conda-base-py"
  },
  "language_info": {
   "codemirror_mode": {
    "name": "ipython",
    "version": 3
   },
   "file_extension": ".py",
   "mimetype": "text/x-python",
   "name": "python",
   "nbconvert_exporter": "python",
   "pygments_lexer": "ipython3",
   "version": "3.12.7"
  }
 },
 "nbformat": 4,
 "nbformat_minor": 5
}
