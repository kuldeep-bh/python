{
 "cells": [
  {
   "cell_type": "code",
   "execution_count": 1,
   "id": "dc2cde15-209f-4dbe-8918-85104e87f47c",
   "metadata": {},
   "outputs": [
    {
     "data": {
      "text/plain": [
       "18"
      ]
     },
     "execution_count": 1,
     "metadata": {},
     "output_type": "execute_result"
    }
   ],
   "source": [
    "9 + 9"
   ]
  },
  {
   "cell_type": "code",
   "execution_count": 2,
   "id": "8329e363-f9b4-4183-8b2a-d8f8193ea8ea",
   "metadata": {},
   "outputs": [
    {
     "data": {
      "text/plain": [
       "9604"
      ]
     },
     "execution_count": 2,
     "metadata": {},
     "output_type": "execute_result"
    }
   ],
   "source": [
    "98*98"
   ]
  },
  {
   "cell_type": "code",
   "execution_count": 3,
   "id": "b318994e-58d5-4ee0-9d04-f0e1c9232aae",
   "metadata": {},
   "outputs": [
    {
     "data": {
      "text/plain": [
       "1.0"
      ]
     },
     "execution_count": 3,
     "metadata": {},
     "output_type": "execute_result"
    }
   ],
   "source": [
    "9/9"
   ]
  },
  {
   "cell_type": "code",
   "execution_count": 4,
   "id": "003af788-a29d-4156-944c-bb2e59623ce1",
   "metadata": {},
   "outputs": [
    {
     "data": {
      "text/plain": [
       "1"
      ]
     },
     "execution_count": 4,
     "metadata": {},
     "output_type": "execute_result"
    }
   ],
   "source": [
    "9//9"
   ]
  },
  {
   "cell_type": "code",
   "execution_count": 5,
   "id": "8fe87879-df6f-4dd3-9e8a-1b36d802d2a7",
   "metadata": {},
   "outputs": [
    {
     "data": {
      "text/plain": [
       "0"
      ]
     },
     "execution_count": 5,
     "metadata": {},
     "output_type": "execute_result"
    }
   ],
   "source": [
    "9%9"
   ]
  },
  {
   "cell_type": "code",
   "execution_count": 6,
   "id": "2d59f753-7f7e-433d-b6c1-d36685dbab5c",
   "metadata": {},
   "outputs": [
    {
     "data": {
      "text/plain": [
       "False"
      ]
     },
     "execution_count": 6,
     "metadata": {},
     "output_type": "execute_result"
    }
   ],
   "source": [
    "3 == 5"
   ]
  },
  {
   "cell_type": "code",
   "execution_count": 7,
   "id": "76595bfb-d333-4da1-b496-d7accd5b3e7e",
   "metadata": {},
   "outputs": [
    {
     "data": {
      "text/plain": [
       "True"
      ]
     },
     "execution_count": 7,
     "metadata": {},
     "output_type": "execute_result"
    }
   ],
   "source": [
    "3!=5"
   ]
  },
  {
   "cell_type": "code",
   "execution_count": 8,
   "id": "2cfe0ba8-0540-401e-93a1-75ed6a57b8e2",
   "metadata": {},
   "outputs": [
    {
     "data": {
      "text/plain": [
       "True"
      ]
     },
     "execution_count": 8,
     "metadata": {},
     "output_type": "execute_result"
    }
   ],
   "source": [
    "3<5"
   ]
  },
  {
   "cell_type": "code",
   "execution_count": 10,
   "id": "769f944c-81f6-4702-b6d3-e874d53fa2ee",
   "metadata": {},
   "outputs": [
    {
     "data": {
      "text/plain": [
       "'welcome to naresh it'"
      ]
     },
     "execution_count": 10,
     "metadata": {},
     "output_type": "execute_result"
    }
   ],
   "source": [
    "\"welcome to naresh it\""
   ]
  },
  {
   "cell_type": "code",
   "execution_count": 11,
   "id": "58ea2877-44c3-47b7-8b96-97f026e858f1",
   "metadata": {},
   "outputs": [
    {
     "data": {
      "text/plain": [
       "'welcome\\nnaresh\\nit'"
      ]
     },
     "execution_count": 11,
     "metadata": {},
     "output_type": "execute_result"
    }
   ],
   "source": [
    "'''welcome\n",
    "naresh\n",
    "it'''"
   ]
  },
  {
   "cell_type": "code",
   "execution_count": 12,
   "id": "2258bddd-b584-4d1b-811b-d86858f5637d",
   "metadata": {},
   "outputs": [
    {
     "data": {
      "text/plain": [
       "9"
      ]
     },
     "execution_count": 12,
     "metadata": {},
     "output_type": "execute_result"
    }
   ],
   "source": [
    "a = 4\n",
    "b = 5\n",
    "a+b"
   ]
  },
  {
   "cell_type": "code",
   "execution_count": 13,
   "id": "8c8928a7-4934-4706-9efc-8becc1393e70",
   "metadata": {},
   "outputs": [
    {
     "data": {
      "text/plain": [
       "int"
      ]
     },
     "execution_count": 13,
     "metadata": {},
     "output_type": "execute_result"
    }
   ],
   "source": [
    "type(a)"
   ]
  },
  {
   "cell_type": "code",
   "execution_count": 14,
   "id": "035e764d-a5f7-4b11-b594-681b4fd54294",
   "metadata": {},
   "outputs": [
    {
     "data": {
      "text/plain": [
       "5"
      ]
     },
     "execution_count": 14,
     "metadata": {},
     "output_type": "execute_result"
    }
   ],
   "source": [
    "var = 5\n",
    "var"
   ]
  },
  {
   "cell_type": "code",
   "execution_count": 15,
   "id": "0e9e742c-5b20-4e30-b321-c196b5dd80c1",
   "metadata": {},
   "outputs": [
    {
     "data": {
      "text/plain": [
       "int"
      ]
     },
     "execution_count": 15,
     "metadata": {},
     "output_type": "execute_result"
    }
   ],
   "source": [
    "type(var)"
   ]
  },
  {
   "cell_type": "code",
   "execution_count": 16,
   "id": "7d62c7de-e55c-4a46-bb51-252d55af9212",
   "metadata": {},
   "outputs": [
    {
     "data": {
      "text/plain": [
       "5.5"
      ]
     },
     "execution_count": 16,
     "metadata": {},
     "output_type": "execute_result"
    }
   ],
   "source": [
    "v1 = 5.5\n",
    "v1"
   ]
  },
  {
   "cell_type": "code",
   "execution_count": 17,
   "id": "2d60beda-5759-4ace-8802-499c0acdf820",
   "metadata": {},
   "outputs": [
    {
     "data": {
      "text/plain": [
       "float"
      ]
     },
     "execution_count": 17,
     "metadata": {},
     "output_type": "execute_result"
    }
   ],
   "source": [
    "type(v1)"
   ]
  },
  {
   "cell_type": "code",
   "execution_count": 18,
   "id": "5f64d1d3-dd45-4529-bbaa-c116bbd643cf",
   "metadata": {},
   "outputs": [
    {
     "data": {
      "text/plain": [
       "9"
      ]
     },
     "execution_count": 18,
     "metadata": {},
     "output_type": "execute_result"
    }
   ],
   "source": [
    "v_ = 9\n",
    "v_"
   ]
  },
  {
   "cell_type": "code",
   "execution_count": 19,
   "id": "1cde7724-29d0-4886-9863-daabcd3ad0af",
   "metadata": {},
   "outputs": [
    {
     "data": {
      "text/plain": [
       "['False',\n",
       " 'None',\n",
       " 'True',\n",
       " 'and',\n",
       " 'as',\n",
       " 'assert',\n",
       " 'async',\n",
       " 'await',\n",
       " 'break',\n",
       " 'class',\n",
       " 'continue',\n",
       " 'def',\n",
       " 'del',\n",
       " 'elif',\n",
       " 'else',\n",
       " 'except',\n",
       " 'finally',\n",
       " 'for',\n",
       " 'from',\n",
       " 'global',\n",
       " 'if',\n",
       " 'import',\n",
       " 'in',\n",
       " 'is',\n",
       " 'lambda',\n",
       " 'nonlocal',\n",
       " 'not',\n",
       " 'or',\n",
       " 'pass',\n",
       " 'raise',\n",
       " 'return',\n",
       " 'try',\n",
       " 'while',\n",
       " 'with',\n",
       " 'yield']"
      ]
     },
     "execution_count": 19,
     "metadata": {},
     "output_type": "execute_result"
    }
   ],
   "source": [
    "import keyword\n",
    "keyword.kwlist"
   ]
  },
  {
   "cell_type": "code",
   "execution_count": 24,
   "id": "0d256e37-125d-4015-bcee-1c40979c0a57",
   "metadata": {},
   "outputs": [
    {
     "data": {
      "text/plain": [
       "35"
      ]
     },
     "execution_count": 24,
     "metadata": {},
     "output_type": "execute_result"
    }
   ],
   "source": [
    "len(keyword.kwlist)"
   ]
  },
  {
   "cell_type": "code",
   "execution_count": 25,
   "id": "bea31c7e-e3de-4c3a-8640-bdb80bac8268",
   "metadata": {},
   "outputs": [
    {
     "data": {
      "text/plain": [
       "'nit'"
      ]
     },
     "execution_count": 25,
     "metadata": {},
     "output_type": "execute_result"
    }
   ],
   "source": [
    "s = 'nit'\n",
    "s"
   ]
  },
  {
   "cell_type": "code",
   "execution_count": 27,
   "id": "0efcea89-dd2c-41b2-8ae5-c1156752fd4a",
   "metadata": {},
   "outputs": [
    {
     "data": {
      "text/plain": [
       "'hello'"
      ]
     },
     "execution_count": 27,
     "metadata": {},
     "output_type": "execute_result"
    }
   ],
   "source": [
    "s1 = 'hello'\n",
    "s1"
   ]
  },
  {
   "cell_type": "code",
   "execution_count": null,
   "id": "ca8bc2fe-17ad-4d2a-8850-74991447f35a",
   "metadata": {},
   "outputs": [],
   "source": [
    "pri"
   ]
  },
  {
   "cell_type": "code",
   "execution_count": 28,
   "id": "6c3d44e0-7e9e-41f2-9f92-d707c102edac",
   "metadata": {},
   "outputs": [
    {
     "name": "stdout",
     "output_type": "stream",
     "text": [
      "hello\n",
      "hello\n"
     ]
    }
   ],
   "source": [
    "print(s)\n",
    "print(s1)"
   ]
  },
  {
   "cell_type": "code",
   "execution_count": 31,
   "id": "a9693bc9-bc21-4d9d-bd1e-0c2d8f6afdcf",
   "metadata": {},
   "outputs": [
    {
     "ename": "IndexError",
     "evalue": "string index out of range",
     "output_type": "error",
     "traceback": [
      "\u001b[1;31m---------------------------------------------------------------------------\u001b[0m",
      "\u001b[1;31mIndexError\u001b[0m                                Traceback (most recent call last)",
      "Cell \u001b[1;32mIn[31], line 1\u001b[0m\n\u001b[1;32m----> 1\u001b[0m s1[\u001b[38;5;241m10\u001b[39m]\n",
      "\u001b[1;31mIndexError\u001b[0m: string index out of range"
     ]
    }
   ],
   "source": [
    "s1[10]"
   ]
  },
  {
   "cell_type": "code",
   "execution_count": 32,
   "id": "c2056cc6-a25e-4708-ba6a-14f495045af7",
   "metadata": {},
   "outputs": [
    {
     "data": {
      "text/plain": [
       "4"
      ]
     },
     "execution_count": 32,
     "metadata": {},
     "output_type": "execute_result"
    }
   ],
   "source": [
    "i = 4\n",
    "i"
   ]
  },
  {
   "cell_type": "code",
   "execution_count": 33,
   "id": "dde14015-89ca-4d62-ad8d-677de61573be",
   "metadata": {},
   "outputs": [
    {
     "data": {
      "text/plain": [
       "int"
      ]
     },
     "execution_count": 33,
     "metadata": {},
     "output_type": "execute_result"
    }
   ],
   "source": [
    "type(i)"
   ]
  },
  {
   "cell_type": "code",
   "execution_count": 34,
   "id": "c3b19188-c349-4a86-ade2-9b41c543c23b",
   "metadata": {},
   "outputs": [
    {
     "data": {
      "text/plain": [
       "(10+20j)"
      ]
     },
     "execution_count": 34,
     "metadata": {},
     "output_type": "execute_result"
    }
   ],
   "source": [
    "c = 10+20j\n",
    "c"
   ]
  },
  {
   "cell_type": "code",
   "execution_count": 35,
   "id": "80400e74-0cf8-4430-a413-ed58e208c6ca",
   "metadata": {},
   "outputs": [
    {
     "data": {
      "text/plain": [
       "10.0"
      ]
     },
     "execution_count": 35,
     "metadata": {},
     "output_type": "execute_result"
    }
   ],
   "source": [
    "c.real"
   ]
  },
  {
   "cell_type": "code",
   "execution_count": 36,
   "id": "df9c3e5c-eb87-4ff9-9fc5-ba10ae24a7ce",
   "metadata": {},
   "outputs": [
    {
     "data": {
      "text/plain": [
       "20.0"
      ]
     },
     "execution_count": 36,
     "metadata": {},
     "output_type": "execute_result"
    }
   ],
   "source": [
    "c.imag"
   ]
  },
  {
   "cell_type": "code",
   "execution_count": 37,
   "id": "a105d90f-c326-445c-9144-7b008659edbe",
   "metadata": {},
   "outputs": [
    {
     "data": {
      "text/plain": [
       "(5+3j)"
      ]
     },
     "execution_count": 37,
     "metadata": {},
     "output_type": "execute_result"
    }
   ],
   "source": [
    "d = 5+3j\n",
    "d"
   ]
  },
  {
   "cell_type": "code",
   "execution_count": 38,
   "id": "b3bbe390-36e2-4aaa-a0a1-9df7da503e48",
   "metadata": {},
   "outputs": [
    {
     "data": {
      "text/plain": [
       "(15+23j)"
      ]
     },
     "execution_count": 38,
     "metadata": {},
     "output_type": "execute_result"
    }
   ],
   "source": [
    "c+d"
   ]
  },
  {
   "cell_type": "code",
   "execution_count": 39,
   "id": "222fd557-0bfc-4a81-b104-09fd14663322",
   "metadata": {},
   "outputs": [
    {
     "data": {
      "text/plain": [
       "True"
      ]
     },
     "execution_count": 39,
     "metadata": {},
     "output_type": "execute_result"
    }
   ],
   "source": [
    "True"
   ]
  },
  {
   "cell_type": "code",
   "execution_count": 40,
   "id": "a8a92a47-ef29-4569-9f99-543c556acdcd",
   "metadata": {},
   "outputs": [
    {
     "data": {
      "text/plain": [
       "False"
      ]
     },
     "execution_count": 40,
     "metadata": {},
     "output_type": "execute_result"
    }
   ],
   "source": [
    "False"
   ]
  },
  {
   "cell_type": "code",
   "execution_count": 41,
   "id": "021ce89a-ef43-42fe-b29f-72083a6a616f",
   "metadata": {},
   "outputs": [
    {
     "data": {
      "text/plain": [
       "1"
      ]
     },
     "execution_count": 41,
     "metadata": {},
     "output_type": "execute_result"
    }
   ],
   "source": [
    "True+False"
   ]
  },
  {
   "cell_type": "code",
   "execution_count": 42,
   "id": "ea178dae-a1fe-4c16-bbd8-ad9112e2a7cf",
   "metadata": {},
   "outputs": [
    {
     "data": {
      "text/plain": [
       "0"
      ]
     },
     "execution_count": 42,
     "metadata": {},
     "output_type": "execute_result"
    }
   ],
   "source": [
    "True-True"
   ]
  },
  {
   "cell_type": "code",
   "execution_count": 43,
   "id": "63cd1aee-4575-40bd-bf1b-68cf8f322135",
   "metadata": {},
   "outputs": [],
   "source": [
    "b=True\n",
    "b1=False"
   ]
  },
  {
   "cell_type": "code",
   "execution_count": 45,
   "id": "b504d45d-233a-4e8e-938b-33f502abd507",
   "metadata": {},
   "outputs": [
    {
     "name": "stdout",
     "output_type": "stream",
     "text": [
      "1\n",
      "1\n",
      "0\n",
      "0.0\n"
     ]
    }
   ],
   "source": [
    "print(b+b1)\n",
    "print(b-b1)\n",
    "print(b*b1)\n",
    "print(b1/b)"
   ]
  },
  {
   "cell_type": "code",
   "execution_count": 46,
   "id": "138324a8-b673-475b-a411-a8867acb7bc5",
   "metadata": {},
   "outputs": [
    {
     "data": {
      "text/plain": [
       "'nit'"
      ]
     },
     "execution_count": 46,
     "metadata": {},
     "output_type": "execute_result"
    }
   ],
   "source": [
    "s = 'nit'\n",
    "s"
   ]
  },
  {
   "cell_type": "code",
   "execution_count": 47,
   "id": "954455f4-f221-4334-8cd2-a254c9a797ed",
   "metadata": {},
   "outputs": [
    {
     "data": {
      "text/plain": [
       "True"
      ]
     },
     "execution_count": 47,
     "metadata": {},
     "output_type": "execute_result"
    }
   ],
   "source": [
    "True"
   ]
  },
  {
   "cell_type": "code",
   "execution_count": 57,
   "id": "9b9ed819-8b06-4774-8c3b-8b377ddf4190",
   "metadata": {},
   "outputs": [
    {
     "name": "stdout",
     "output_type": "stream",
     "text": [
      "ajju is 30 years old and live in indore\n"
     ]
    }
   ],
   "source": [
    "name='ajju'\n",
    "age=30\n",
    "city='indore'\n",
    "bio=f\"{name} is {age} years old and live in {city}\"\n",
    "print(bio)"
   ]
  },
  {
   "cell_type": "code",
   "execution_count": 1,
   "id": "958bee1b-27bd-425d-9516-ef40e643578a",
   "metadata": {},
   "outputs": [
    {
     "data": {
      "text/plain": [
       "[2, 4, 6, 8, 9, 78]"
      ]
     },
     "execution_count": 1,
     "metadata": {},
     "output_type": "execute_result"
    }
   ],
   "source": [
    "l = [2,4,6,8,9,78]\n",
    "l"
   ]
  },
  {
   "cell_type": "code",
   "execution_count": 3,
   "id": "b1d76d92-f6d8-42ed-ab6d-1436aaab5788",
   "metadata": {},
   "outputs": [
    {
     "data": {
      "text/plain": [
       "[2, 4, 6, 8, 9, 78, 45, 45]"
      ]
     },
     "execution_count": 3,
     "metadata": {},
     "output_type": "execute_result"
    }
   ],
   "source": [
    "l.append(45)\n",
    "l"
   ]
  },
  {
   "cell_type": "code",
   "execution_count": 7,
   "id": "915000a5-495e-4b16-a1eb-e0bbc90a45f5",
   "metadata": {},
   "outputs": [
    {
     "data": {
      "text/plain": [
       "[2, 4, 6, 8, 9, 78, 45, 45, 48]"
      ]
     },
     "execution_count": 7,
     "metadata": {},
     "output_type": "execute_result"
    }
   ],
   "source": []
  },
  {
   "cell_type": "code",
   "execution_count": 8,
   "id": "d5f13cbe-658a-4448-9315-b3ca6f4890cb",
   "metadata": {},
   "outputs": [
    {
     "data": {
      "text/plain": [
       "'3.12.7 | packaged by Anaconda, Inc. | (main, Oct  4 2024, 13:17:27) [MSC v.1929 64 bit (AMD64)]'"
      ]
     },
     "execution_count": 8,
     "metadata": {},
     "output_type": "execute_result"
    }
   ],
   "source": [
    "import sys\n",
    "sys.version"
   ]
  },
  {
   "cell_type": "code",
   "execution_count": 9,
   "id": "e9ec5ebd-ecda-4896-b1c8-2275dc474b07",
   "metadata": {},
   "outputs": [
    {
     "data": {
      "text/plain": [
       "140731977378296"
      ]
     },
     "execution_count": 9,
     "metadata": {},
     "output_type": "execute_result"
    }
   ],
   "source": [
    "a = 3\n",
    "id(a)"
   ]
  },
  {
   "cell_type": "code",
   "execution_count": 11,
   "id": "ac9c16c5-292c-419a-8997-637b58b2427f",
   "metadata": {},
   "outputs": [
    {
     "data": {
      "text/plain": [
       "140731977378296"
      ]
     },
     "execution_count": 11,
     "metadata": {},
     "output_type": "execute_result"
    }
   ],
   "source": [
    "b = 3\n",
    "id(b)"
   ]
  },
  {
   "cell_type": "code",
   "execution_count": 12,
   "id": "c69224a7-0b7a-403f-b0c8-13ac6ab1e7e8",
   "metadata": {},
   "outputs": [
    {
     "data": {
      "text/plain": [
       "int"
      ]
     },
     "execution_count": 12,
     "metadata": {},
     "output_type": "execute_result"
    }
   ],
   "source": [
    "a = 4\n",
    "type(a)"
   ]
  },
  {
   "cell_type": "code",
   "execution_count": 15,
   "id": "284240e3-2d8d-4772-a5ef-86c5ef12b84b",
   "metadata": {},
   "outputs": [
    {
     "name": "stdout",
     "output_type": "stream",
     "text": [
      "welcome to nit\n"
     ]
    }
   ],
   "source": [
    "def hello():\n",
    "    print('welcome to nit')\n",
    "hello()"
   ]
  },
  {
   "cell_type": "code",
   "execution_count": 16,
   "id": "ea3128cd-0e1b-49cd-82b5-091606b8d24a",
   "metadata": {},
   "outputs": [
    {
     "data": {
      "text/plain": [
       "['False',\n",
       " 'None',\n",
       " 'True',\n",
       " 'and',\n",
       " 'as',\n",
       " 'assert',\n",
       " 'async',\n",
       " 'await',\n",
       " 'break',\n",
       " 'class',\n",
       " 'continue',\n",
       " 'def',\n",
       " 'del',\n",
       " 'elif',\n",
       " 'else',\n",
       " 'except',\n",
       " 'finally',\n",
       " 'for',\n",
       " 'from',\n",
       " 'global',\n",
       " 'if',\n",
       " 'import',\n",
       " 'in',\n",
       " 'is',\n",
       " 'lambda',\n",
       " 'nonlocal',\n",
       " 'not',\n",
       " 'or',\n",
       " 'pass',\n",
       " 'raise',\n",
       " 'return',\n",
       " 'try',\n",
       " 'while',\n",
       " 'with',\n",
       " 'yield']"
      ]
     },
     "execution_count": 16,
     "metadata": {},
     "output_type": "execute_result"
    }
   ],
   "source": [
    "import keyword\n",
    "keyword.kwlist"
   ]
  },
  {
   "cell_type": "code",
   "execution_count": 17,
   "id": "7c438c9b-e07f-49ca-9ccc-2085cb609c1c",
   "metadata": {},
   "outputs": [
    {
     "data": {
      "text/plain": [
       "35"
      ]
     },
     "execution_count": 17,
     "metadata": {},
     "output_type": "execute_result"
    }
   ],
   "source": [
    "len(keyword.kwlist)"
   ]
  },
  {
   "cell_type": "code",
   "execution_count": 20,
   "id": "e7b0394d-6c81-4dc6-bed7-a403af56bf1f",
   "metadata": {},
   "outputs": [
    {
     "data": {
      "text/plain": [
       "56"
      ]
     },
     "execution_count": 20,
     "metadata": {},
     "output_type": "execute_result"
    }
   ],
   "source": [
    "nit_ = 56\n",
    "nit_"
   ]
  },
  {
   "cell_type": "code",
   "execution_count": 21,
   "id": "527e9fbb-0d0b-4826-9278-eeabcc217a1d",
   "metadata": {},
   "outputs": [],
   "source": [
    "i, f, s, b, c = 45,3.4,'hello',True,1+2j"
   ]
  },
  {
   "cell_type": "code",
   "execution_count": 22,
   "id": "765aa472-d4c5-4d90-ab40-cc36a5c78246",
   "metadata": {},
   "outputs": [
    {
     "name": "stdout",
     "output_type": "stream",
     "text": [
      "45\n",
      "3.4\n",
      "hello\n",
      "True\n",
      "(1+2j)\n"
     ]
    }
   ],
   "source": [
    "print(i)\n",
    "print(f)\n",
    "print(s)\n",
    "print(b)\n",
    "print(c)"
   ]
  },
  {
   "cell_type": "code",
   "execution_count": null,
   "id": "121b406c-ce7f-4468-a746-604848bb97f2",
   "metadata": {},
   "outputs": [],
   "source": []
  },
  {
   "cell_type": "markdown",
   "id": "38abc3ac-4614-49b2-8d73-32ce610c4c54",
   "metadata": {},
   "source": [
    "#typecasting"
   ]
  },
  {
   "cell_type": "code",
   "execution_count": 23,
   "id": "bd774299-3cbc-4fdd-92f5-443b391ba648",
   "metadata": {},
   "outputs": [
    {
     "data": {
      "text/plain": [
       "3"
      ]
     },
     "execution_count": 23,
     "metadata": {},
     "output_type": "execute_result"
    }
   ],
   "source": [
    "int(3.4)"
   ]
  },
  {
   "cell_type": "code",
   "execution_count": 24,
   "id": "c0adff09-2a91-4d08-a036-8ec19e76ca55",
   "metadata": {},
   "outputs": [
    {
     "data": {
      "text/plain": [
       "1"
      ]
     },
     "execution_count": 24,
     "metadata": {},
     "output_type": "execute_result"
    }
   ],
   "source": [
    "int(True)"
   ]
  },
  {
   "cell_type": "code",
   "execution_count": 25,
   "id": "1642f631-7c5f-49f7-9d70-647c52c9beed",
   "metadata": {},
   "outputs": [
    {
     "data": {
      "text/plain": [
       "3"
      ]
     },
     "execution_count": 25,
     "metadata": {},
     "output_type": "execute_result"
    }
   ],
   "source": [
    "True+True+True+False*True"
   ]
  },
  {
   "cell_type": "code",
   "execution_count": 26,
   "id": "8f77ddeb-8423-4fb1-bfb2-92a3810dfcfa",
   "metadata": {},
   "outputs": [
    {
     "ename": "TypeError",
     "evalue": "int() argument must be a string, a bytes-like object or a real number, not 'complex'",
     "output_type": "error",
     "traceback": [
      "\u001b[1;31m---------------------------------------------------------------------------\u001b[0m",
      "\u001b[1;31mTypeError\u001b[0m                                 Traceback (most recent call last)",
      "Cell \u001b[1;32mIn[26], line 1\u001b[0m\n\u001b[1;32m----> 1\u001b[0m \u001b[38;5;28mint\u001b[39m(\u001b[38;5;241m1\u001b[39m\u001b[38;5;241m+\u001b[39m\u001b[38;5;241m2\u001b[39mj)\n",
      "\u001b[1;31mTypeError\u001b[0m: int() argument must be a string, a bytes-like object or a real number, not 'complex'"
     ]
    }
   ],
   "source": [
    "int(1+2j)"
   ]
  },
  {
   "cell_type": "code",
   "execution_count": 27,
   "id": "7adb4369-d46a-4a33-8540-3e6772129334",
   "metadata": {},
   "outputs": [
    {
     "data": {
      "text/plain": [
       "10"
      ]
     },
     "execution_count": 27,
     "metadata": {},
     "output_type": "execute_result"
    }
   ],
   "source": [
    "int('10')"
   ]
  },
  {
   "cell_type": "code",
   "execution_count": 28,
   "id": "9831cf26-2489-4836-a632-73cb2ecefbea",
   "metadata": {},
   "outputs": [
    {
     "ename": "ValueError",
     "evalue": "invalid literal for int() with base 10: 'ten'",
     "output_type": "error",
     "traceback": [
      "\u001b[1;31m---------------------------------------------------------------------------\u001b[0m",
      "\u001b[1;31mValueError\u001b[0m                                Traceback (most recent call last)",
      "Cell \u001b[1;32mIn[28], line 1\u001b[0m\n\u001b[1;32m----> 1\u001b[0m \u001b[38;5;28mint\u001b[39m(\u001b[38;5;124m'\u001b[39m\u001b[38;5;124mten\u001b[39m\u001b[38;5;124m'\u001b[39m)\n",
      "\u001b[1;31mValueError\u001b[0m: invalid literal for int() with base 10: 'ten'"
     ]
    }
   ],
   "source": [
    "int('ten')"
   ]
  },
  {
   "cell_type": "code",
   "execution_count": 29,
   "id": "abc94277-b8a8-4ff0-9003-9ab23eea4d32",
   "metadata": {},
   "outputs": [
    {
     "data": {
      "text/plain": [
       "23.0"
      ]
     },
     "execution_count": 29,
     "metadata": {},
     "output_type": "execute_result"
    }
   ],
   "source": [
    "float(23)"
   ]
  },
  {
   "cell_type": "code",
   "execution_count": 30,
   "id": "c4447637-0426-4e90-8a23-d2762290e008",
   "metadata": {},
   "outputs": [
    {
     "data": {
      "text/plain": [
       "1.0"
      ]
     },
     "execution_count": 30,
     "metadata": {},
     "output_type": "execute_result"
    }
   ],
   "source": [
    "float(True)"
   ]
  },
  {
   "cell_type": "code",
   "execution_count": 31,
   "id": "a805b0c0-fe36-4726-b850-aadd6abe31d8",
   "metadata": {},
   "outputs": [
    {
     "data": {
      "text/plain": [
       "(10+0j)"
      ]
     },
     "execution_count": 31,
     "metadata": {},
     "output_type": "execute_result"
    }
   ],
   "source": [
    "complex('10')"
   ]
  },
  {
   "cell_type": "code",
   "execution_count": 32,
   "id": "e5e3432a-1918-4081-a43b-53d6644c6a3e",
   "metadata": {},
   "outputs": [
    {
     "data": {
      "text/plain": [
       "(10+20j)"
      ]
     },
     "execution_count": 32,
     "metadata": {},
     "output_type": "execute_result"
    }
   ],
   "source": [
    "complex(10,20)"
   ]
  },
  {
   "cell_type": "code",
   "execution_count": 34,
   "id": "34cc50a3-128c-484b-a848-3504e3454f9e",
   "metadata": {},
   "outputs": [
    {
     "data": {
      "text/plain": [
       "(10+40j)"
      ]
     },
     "execution_count": 34,
     "metadata": {},
     "output_type": "execute_result"
    }
   ],
   "source": [
    "complex(10,40)"
   ]
  },
  {
   "cell_type": "code",
   "execution_count": 35,
   "id": "c6c8d218-a0fd-4279-9a14-d61198f22708",
   "metadata": {},
   "outputs": [
    {
     "data": {
      "text/plain": [
       "True"
      ]
     },
     "execution_count": 35,
     "metadata": {},
     "output_type": "execute_result"
    }
   ],
   "source": [
    "bool(1)"
   ]
  },
  {
   "cell_type": "code",
   "execution_count": 36,
   "id": "56a9cf1a-f3b1-4bde-bdd7-c129796e4163",
   "metadata": {},
   "outputs": [
    {
     "data": {
      "text/plain": [
       "False"
      ]
     },
     "execution_count": 36,
     "metadata": {},
     "output_type": "execute_result"
    }
   ],
   "source": [
    "bool(0)"
   ]
  },
  {
   "cell_type": "code",
   "execution_count": 37,
   "id": "ddbf5aef-ba1c-4cb2-8ae0-b631acd836c0",
   "metadata": {},
   "outputs": [
    {
     "data": {
      "text/plain": [
       "False"
      ]
     },
     "execution_count": 37,
     "metadata": {},
     "output_type": "execute_result"
    }
   ],
   "source": [
    "bool()"
   ]
  },
  {
   "cell_type": "code",
   "execution_count": 39,
   "id": "b8283fbd-8cb7-431d-8b5e-df009e943758",
   "metadata": {},
   "outputs": [
    {
     "data": {
      "text/plain": [
       "False"
      ]
     },
     "execution_count": 39,
     "metadata": {},
     "output_type": "execute_result"
    }
   ],
   "source": [
    "bool(0+0j)"
   ]
  },
  {
   "cell_type": "code",
   "execution_count": 40,
   "id": "c413952a-d92c-4d38-8a0c-2e4cbe40a19e",
   "metadata": {},
   "outputs": [
    {
     "data": {
      "text/plain": [
       "True"
      ]
     },
     "execution_count": 40,
     "metadata": {},
     "output_type": "execute_result"
    }
   ],
   "source": [
    "bool('10')"
   ]
  },
  {
   "cell_type": "code",
   "execution_count": null,
   "id": "eeb7569b-ec72-4eb7-bf2e-0d8ba1fca54d",
   "metadata": {},
   "outputs": [],
   "source": []
  },
  {
   "cell_type": "code",
   "execution_count": null,
   "id": "07d83779-a336-45cb-b1dd-bfdede2463ab",
   "metadata": {},
   "outputs": [],
   "source": []
  },
  {
   "cell_type": "code",
   "execution_count": null,
   "id": "529c978f-4e06-4a4f-9158-6f8331285a01",
   "metadata": {},
   "outputs": [],
   "source": []
  }
 ],
 "metadata": {
  "kernelspec": {
   "display_name": "Python [conda env:base] *",
   "language": "python",
   "name": "conda-base-py"
  },
  "language_info": {
   "codemirror_mode": {
    "name": "ipython",
    "version": 3
   },
   "file_extension": ".py",
   "mimetype": "text/x-python",
   "name": "python",
   "nbconvert_exporter": "python",
   "pygments_lexer": "ipython3",
   "version": "3.12.7"
  }
 },
 "nbformat": 4,
 "nbformat_minor": 5
}
