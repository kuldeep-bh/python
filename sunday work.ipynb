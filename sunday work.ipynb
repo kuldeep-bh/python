{
 "cells": [
  {
   "cell_type": "code",
   "execution_count": 1,
   "id": "88689db0-cb90-4566-84f0-42528f5e915b",
   "metadata": {},
   "outputs": [
    {
     "name": "stdout",
     "output_type": "stream",
     "text": [
      "5\n"
     ]
    }
   ],
   "source": [
    "a = 5\n",
    "b = 5\n",
    "print(a)"
   ]
  },
  {
   "cell_type": "code",
   "execution_count": 2,
   "id": "d26c078e-0404-41dc-a4fc-f90d383c4434",
   "metadata": {},
   "outputs": [
    {
     "name": "stdout",
     "output_type": "stream",
     "text": [
      "5\n"
     ]
    }
   ],
   "source": [
    "print(b)"
   ]
  },
  {
   "cell_type": "code",
   "execution_count": 3,
   "id": "a80b49ea-3d18-4724-951a-21ebf3532e0a",
   "metadata": {},
   "outputs": [
    {
     "name": "stdout",
     "output_type": "stream",
     "text": [
      "5\n",
      "5\n"
     ]
    }
   ],
   "source": [
    "print(a)\n",
    "print(b)"
   ]
  },
  {
   "cell_type": "code",
   "execution_count": 4,
   "id": "4691a501-d448-41ff-bb93-6039b138f73b",
   "metadata": {},
   "outputs": [
    {
     "name": "stdout",
     "output_type": "stream",
     "text": [
      "5\n",
      "5 5\n",
      "5 5 python\n"
     ]
    }
   ],
   "source": [
    "print(5)\n",
    "print(5,5)\n",
    "print(5,5,\"python\")"
   ]
  },
  {
   "cell_type": "code",
   "execution_count": 5,
   "id": "29fc13ce-26dd-4b45-a4c7-bc03e691db15",
   "metadata": {},
   "outputs": [
    {
     "name": "stdout",
     "output_type": "stream",
     "text": [
      "50\n"
     ]
    }
   ],
   "source": [
    "num1=20\n",
    "num2=30\n",
    "add=num1+num2\n",
    "print(add)"
   ]
  },
  {
   "cell_type": "code",
   "execution_count": 11,
   "id": "883ddb0e-260f-4552-be2e-2100175fd133",
   "metadata": {},
   "outputs": [
    {
     "name": "stdout",
     "output_type": "stream",
     "text": [
      "{'kuldeep'} {27} {'indore'}\n",
      "kuldeep \n",
      " 27 indore mp\n"
     ]
    }
   ],
   "source": [
    "name=\"kuldeep\"\n",
    "age=27\n",
    "city=\"indore\"\n",
    "state=\"mp\"\n",
    "print({name},{age},{city})\n",
    "print(name,'\\n',age,city,state)"
   ]
  },
  {
   "cell_type": "code",
   "execution_count": 10,
   "id": "f686f54f-78e3-4705-8c75-79aa99d4ef94",
   "metadata": {},
   "outputs": [
    {
     "name": "stdout",
     "output_type": "stream",
     "text": [
      "kuldeep 27 indore\n",
      "kuldeep \n",
      " 27 indore mp\n"
     ]
    }
   ],
   "source": [
    "name = \"kuldeep\"\n",
    "age = 27\n",
    "city = \"indore\"\n",
    "state = \"mp\"\n",
    "\n",
    "# Correctly formatted print statements\n",
    "print(name, age, city)  # Just printing variables\n",
    "print(name, '\\n', age, city, state)  # Including a newline character\n"
   ]
  },
  {
   "cell_type": "code",
   "execution_count": 12,
   "id": "f9cf63c3-3388-4e25-9890-b4baf76a7c10",
   "metadata": {},
   "outputs": [
    {
     "name": "stdout",
     "output_type": "stream",
     "text": [
      "{'ajay'} {28} {'rewa'} {'mp'}\n"
     ]
    }
   ],
   "source": [
    "name = \"ajay\"\n",
    "age = 28\n",
    "city = \"rewa\"\n",
    "state = \"mp\"\n",
    "print({name},{age},{city},{state})"
   ]
  },
  {
   "cell_type": "code",
   "execution_count": 13,
   "id": "1f16df4f-f210-4816-8b8d-facacc82524a",
   "metadata": {},
   "outputs": [
    {
     "name": "stdout",
     "output_type": "stream",
     "text": [
      "ajay \n",
      " 28 rewa mp\n"
     ]
    }
   ],
   "source": [
    "print(name,'\\n',age,city,state)"
   ]
  },
  {
   "cell_type": "code",
   "execution_count": 15,
   "id": "cbfb8564-56cf-41f6-8132-728e94e0cf94",
   "metadata": {},
   "outputs": [
    {
     "name": "stdout",
     "output_type": "stream",
     "text": [
      "30.0\n"
     ]
    }
   ],
   "source": [
    "num1=20\n",
    "num2=30\n",
    "num3=40\n",
    "avg = (num1+num2+num3)/3\n",
    "print(avg)"
   ]
  },
  {
   "cell_type": "code",
   "execution_count": null,
   "id": "5c8abc9b-1667-40a4-b2ae-efc14bd5ed38",
   "metadata": {},
   "outputs": [],
   "source": [
    "#how to use end statment"
   ]
  },
  {
   "cell_type": "code",
   "execution_count": 16,
   "id": "4b4a19df-aae9-403f-bf24-40ba5b6eaa9f",
   "metadata": {},
   "outputs": [
    {
     "name": "stdout",
     "output_type": "stream",
     "text": [
      "hello\n",
      "goodmorning\n"
     ]
    }
   ],
   "source": [
    "print(\"hello\")\n",
    "print(\"goodmorning\")"
   ]
  },
  {
   "cell_type": "code",
   "execution_count": null,
   "id": "0b6dc78d-81d5-41ed-a98e-237e332793fb",
   "metadata": {},
   "outputs": [],
   "source": [
    "#using seprator"
   ]
  },
  {
   "cell_type": "code",
   "execution_count": null,
   "id": "5e52b344-d87e-46ed-a336-2f2b65f034a4",
   "metadata": {},
   "outputs": [],
   "source": [
    "#here  we only one print statment is used which has multiple values"
   ]
  },
  {
   "cell_type": "code",
   "execution_count": 17,
   "id": "4448d13a-a65c-4533-8622-c1345cef50d2",
   "metadata": {},
   "outputs": [
    {
     "name": "stdout",
     "output_type": "stream",
     "text": [
      "hello how are you jhon\n"
     ]
    }
   ],
   "source": [
    "print(\"hello\",\"how\",\"are\",\"you\",\"jhon\")"
   ]
  },
  {
   "cell_type": "code",
   "execution_count": null,
   "id": "f556b77a-7ec0-4f42-8113-815cf06634b3",
   "metadata": {},
   "outputs": [],
   "source": [
    "#working with complex data type"
   ]
  },
  {
   "cell_type": "code",
   "execution_count": 20,
   "id": "326dc493-12c4-45d7-a6b4-a49207943b89",
   "metadata": {},
   "outputs": [
    {
     "name": "stdout",
     "output_type": "stream",
     "text": [
      "3.0\n",
      "4.0\n"
     ]
    }
   ],
   "source": [
    "a = 3+4j\n",
    "b = 2+3j\n",
    "print(a.real)\n",
    "print(a.imag)"
   ]
  },
  {
   "cell_type": "code",
   "execution_count": 22,
   "id": "3f00a4c3-9eb6-4d98-9978-83bab0e2077e",
   "metadata": {},
   "outputs": [
    {
     "name": "stdout",
     "output_type": "stream",
     "text": [
      "(5+7j)\n"
     ]
    }
   ],
   "source": [
    "print(a+b)"
   ]
  },
  {
   "cell_type": "code",
   "execution_count": 23,
   "id": "06bc19b4-501e-4c4a-aae6-b5b5e5716bc1",
   "metadata": {},
   "outputs": [
    {
     "name": "stdout",
     "output_type": "stream",
     "text": [
      "(1.3846153846153848-0.07692307692307697j)\n"
     ]
    }
   ],
   "source": [
    "print(a/b)"
   ]
  },
  {
   "cell_type": "code",
   "execution_count": 24,
   "id": "d02fad4e-b444-4e48-b9dd-266f96b6db90",
   "metadata": {},
   "outputs": [
    {
     "name": "stdout",
     "output_type": "stream",
     "text": [
      "(-6+17j)\n"
     ]
    }
   ],
   "source": [
    "print(a*b)"
   ]
  },
  {
   "cell_type": "code",
   "execution_count": null,
   "id": "821ef2bd-fe04-44cf-9289-738deadb0610",
   "metadata": {},
   "outputs": [],
   "source": []
  }
 ],
 "metadata": {
  "kernelspec": {
   "display_name": "Python [conda env:base] *",
   "language": "python",
   "name": "conda-base-py"
  },
  "language_info": {
   "codemirror_mode": {
    "name": "ipython",
    "version": 3
   },
   "file_extension": ".py",
   "mimetype": "text/x-python",
   "name": "python",
   "nbconvert_exporter": "python",
   "pygments_lexer": "ipython3",
   "version": "3.12.7"
  }
 },
 "nbformat": 4,
 "nbformat_minor": 5
}
