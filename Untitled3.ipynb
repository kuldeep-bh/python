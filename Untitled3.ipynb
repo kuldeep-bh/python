{
 "cells": [
  {
   "cell_type": "markdown",
   "id": "2f709f65-86f4-4624-a75d-9fdd56e4737b",
   "metadata": {},
   "source": [
    "# sperset,subset,disjoint practice"
   ]
  },
  {
   "cell_type": "code",
   "execution_count": 2,
   "id": "7b29715e-2c47-40c2-b8fa-4e30745a3c46",
   "metadata": {},
   "outputs": [],
   "source": [
    "a1 = {1,2,3,4,5,6,7,8,9}\n",
    "b1 = {4,5,6,7,8,9}\n",
    "c1 = {23,24,25,26,27,28}"
   ]
  },
  {
   "cell_type": "code",
   "execution_count": 3,
   "id": "2c55b874-3912-4771-bf56-83180361cc88",
   "metadata": {},
   "outputs": [
    {
     "data": {
      "text/plain": [
       "True"
      ]
     },
     "execution_count": 3,
     "metadata": {},
     "output_type": "execute_result"
    }
   ],
   "source": [
    "a1.issuperset(b1)"
   ]
  },
  {
   "cell_type": "code",
   "execution_count": 4,
   "id": "2210ec9d-e16f-45bf-9f3d-2b2d0ed79876",
   "metadata": {},
   "outputs": [
    {
     "data": {
      "text/plain": [
       "True"
      ]
     },
     "execution_count": 4,
     "metadata": {},
     "output_type": "execute_result"
    }
   ],
   "source": [
    "b1.issubset(a1)"
   ]
  },
  {
   "cell_type": "code",
   "execution_count": 5,
   "id": "cf65ace0-276e-4cc0-b1f4-66293559b1af",
   "metadata": {},
   "outputs": [
    {
     "data": {
      "text/plain": [
       "True"
      ]
     },
     "execution_count": 5,
     "metadata": {},
     "output_type": "execute_result"
    }
   ],
   "source": [
    "c1.isdisjoint(a1)"
   ]
  },
  {
   "cell_type": "code",
   "execution_count": 6,
   "id": "8521d868-9d91-41f0-9903-98f48e95d6f8",
   "metadata": {},
   "outputs": [
    {
     "data": {
      "text/plain": [
       "True"
      ]
     },
     "execution_count": 6,
     "metadata": {},
     "output_type": "execute_result"
    }
   ],
   "source": [
    "c1.isdisjoint(b1)"
   ]
  },
  {
   "cell_type": "markdown",
   "id": "4a7e5ca2-5050-4554-b77a-bf910a1016bd",
   "metadata": {},
   "source": [
    "# now dictionary function practise"
   ]
  },
  {
   "cell_type": "code",
   "execution_count": 10,
   "id": "16d82cfb-eaba-4cf8-bee5-3fed72b919c7",
   "metadata": {},
   "outputs": [
    {
     "data": {
      "text/plain": [
       "dict"
      ]
     },
     "execution_count": 10,
     "metadata": {},
     "output_type": "execute_result"
    }
   ],
   "source": [
    "d = {}\n",
    "type(d)"
   ]
  },
  {
   "cell_type": "code",
   "execution_count": 11,
   "id": "5d2c2c0e-adb5-401d-9f89-7c482dc70038",
   "metadata": {},
   "outputs": [
    {
     "data": {
      "text/plain": [
       "{1: 'four', 2: 'five', 3: 'six', 4: 'seven', 5: 'eight'}"
      ]
     },
     "execution_count": 11,
     "metadata": {},
     "output_type": "execute_result"
    }
   ],
   "source": [
    "d = {1:'four',2:'five',3:'six',4:'seven',5:'eight'}\n",
    "d"
   ]
  },
  {
   "cell_type": "code",
   "execution_count": 12,
   "id": "65c0722a-98ef-42e8-a0ed-c042796485c0",
   "metadata": {},
   "outputs": [
    {
     "data": {
      "text/plain": [
       "dict_keys([1, 2, 3, 4, 5])"
      ]
     },
     "execution_count": 12,
     "metadata": {},
     "output_type": "execute_result"
    }
   ],
   "source": [
    "d.keys()"
   ]
  },
  {
   "cell_type": "code",
   "execution_count": 13,
   "id": "4f29eebc-0fe6-4204-93e3-4858701ba488",
   "metadata": {},
   "outputs": [
    {
     "data": {
      "text/plain": [
       "dict_items([(1, 'four'), (2, 'five'), (3, 'six'), (4, 'seven'), (5, 'eight')])"
      ]
     },
     "execution_count": 13,
     "metadata": {},
     "output_type": "execute_result"
    }
   ],
   "source": [
    "d.items()"
   ]
  },
  {
   "cell_type": "code",
   "execution_count": 14,
   "id": "b9443faf-851f-4eda-a970-ab26c8d90d2f",
   "metadata": {},
   "outputs": [
    {
     "data": {
      "text/plain": [
       "dict_values(['four', 'five', 'six', 'seven', 'eight'])"
      ]
     },
     "execution_count": 14,
     "metadata": {},
     "output_type": "execute_result"
    }
   ],
   "source": [
    "d.values()"
   ]
  },
  {
   "cell_type": "code",
   "execution_count": 15,
   "id": "1d7c3582-28aa-4a27-8701-10cb095ce4de",
   "metadata": {},
   "outputs": [
    {
     "data": {
      "text/plain": [
       "'seven'"
      ]
     },
     "execution_count": 15,
     "metadata": {},
     "output_type": "execute_result"
    }
   ],
   "source": [
    "d[4]"
   ]
  },
  {
   "cell_type": "code",
   "execution_count": 16,
   "id": "1c3ad499-be69-41fd-83cc-0fd9c5df43f6",
   "metadata": {},
   "outputs": [
    {
     "data": {
      "text/plain": [
       "'eight'"
      ]
     },
     "execution_count": 16,
     "metadata": {},
     "output_type": "execute_result"
    }
   ],
   "source": [
    "d[5]"
   ]
  },
  {
   "cell_type": "code",
   "execution_count": 17,
   "id": "cba9e83e-e667-4c8e-acfd-d5b65c6ebf58",
   "metadata": {},
   "outputs": [
    {
     "data": {
      "text/plain": [
       "'four'"
      ]
     },
     "execution_count": 17,
     "metadata": {},
     "output_type": "execute_result"
    }
   ],
   "source": [
    "d.get(1)"
   ]
  },
  {
   "cell_type": "code",
   "execution_count": 20,
   "id": "551e90c6-68b8-48be-b5f9-4f065cfb77b7",
   "metadata": {},
   "outputs": [
    {
     "data": {
      "text/plain": [
       "{1: 'four', 2: 'five', 3: 'six', 4: 'seven', 5: 'eight'}"
      ]
     },
     "execution_count": 20,
     "metadata": {},
     "output_type": "execute_result"
    }
   ],
   "source": [
    "d1 = d.copy()\n",
    "d1"
   ]
  },
  {
   "cell_type": "code",
   "execution_count": 22,
   "id": "9cb15417-a81c-4ad2-b508-bfb83fb47d63",
   "metadata": {},
   "outputs": [
    {
     "data": {
      "text/plain": [
       "'four'"
      ]
     },
     "execution_count": 22,
     "metadata": {},
     "output_type": "execute_result"
    }
   ],
   "source": [
    "d1.pop(1)"
   ]
  },
  {
   "cell_type": "code",
   "execution_count": 23,
   "id": "9d69bf8e-9e82-4f2c-8c0c-77bc8d7c3a88",
   "metadata": {},
   "outputs": [
    {
     "data": {
      "text/plain": [
       "{2: 'five', 3: 'six', 4: 'seven', 5: 'eight'}"
      ]
     },
     "execution_count": 23,
     "metadata": {},
     "output_type": "execute_result"
    }
   ],
   "source": [
    "d1"
   ]
  },
  {
   "cell_type": "code",
   "execution_count": 24,
   "id": "d6672033-989d-4771-bb66-64e901c11911",
   "metadata": {},
   "outputs": [
    {
     "data": {
      "text/plain": [
       "(5, 'eight')"
      ]
     },
     "execution_count": 24,
     "metadata": {},
     "output_type": "execute_result"
    }
   ],
   "source": [
    "d1.popitem()"
   ]
  },
  {
   "cell_type": "code",
   "execution_count": 25,
   "id": "18bf412c-0340-4e2f-aae3-0466de5abe05",
   "metadata": {},
   "outputs": [
    {
     "data": {
      "text/plain": [
       "{2: 'five', 3: 'six', 4: 'seven'}"
      ]
     },
     "execution_count": 25,
     "metadata": {},
     "output_type": "execute_result"
    }
   ],
   "source": [
    "d1"
   ]
  },
  {
   "cell_type": "code",
   "execution_count": 26,
   "id": "b64a510f-373f-4923-a7fc-1b7eedce74b1",
   "metadata": {},
   "outputs": [
    {
     "data": {
      "text/plain": [
       "{1: 'four', 2: 'five', 3: 'six', 4: 'seven', 5: 'eight'}"
      ]
     },
     "execution_count": 26,
     "metadata": {},
     "output_type": "execute_result"
    }
   ],
   "source": [
    "d"
   ]
  },
  {
   "cell_type": "code",
   "execution_count": 28,
   "id": "f3a8fd8e-0dcc-4e5a-8b55-8e1065aba7e0",
   "metadata": {},
   "outputs": [
    {
     "name": "stdout",
     "output_type": "stream",
     "text": [
      "1\n",
      "2\n",
      "3\n",
      "4\n",
      "5\n"
     ]
    }
   ],
   "source": [
    "for i in d:\n",
    "    print(i)"
   ]
  },
  {
   "cell_type": "code",
   "execution_count": 29,
   "id": "29ac8821-68f4-4fde-996b-76af538240b3",
   "metadata": {},
   "outputs": [
    {
     "name": "stdout",
     "output_type": "stream",
     "text": [
      "1 : four\n",
      "2 : five\n",
      "3 : six\n",
      "4 : seven\n",
      "5 : eight\n"
     ]
    }
   ],
   "source": [
    "for i in d:\n",
    "    print(i,':',d[i])"
   ]
  },
  {
   "cell_type": "code",
   "execution_count": 30,
   "id": "d1f32378-a9cf-43ff-b43f-7995f0aa8340",
   "metadata": {},
   "outputs": [
    {
     "name": "stdout",
     "output_type": "stream",
     "text": [
      "1 : {1: 'four', 2: 'five', 3: 'six', 4: 'seven', 5: 'eight'}\n",
      "2 : {1: 'four', 2: 'five', 3: 'six', 4: 'seven', 5: 'eight'}\n",
      "3 : {1: 'four', 2: 'five', 3: 'six', 4: 'seven', 5: 'eight'}\n",
      "4 : {1: 'four', 2: 'five', 3: 'six', 4: 'seven', 5: 'eight'}\n",
      "5 : {1: 'four', 2: 'five', 3: 'six', 4: 'seven', 5: 'eight'}\n"
     ]
    }
   ],
   "source": [
    "for i in d:\n",
    "    print(i,':',d)"
   ]
  },
  {
   "cell_type": "markdown",
   "id": "f57b8c05-a213-4501-b43b-eb7499feb6e2",
   "metadata": {},
   "source": [
    "# dict complete"
   ]
  },
  {
   "cell_type": "code",
   "execution_count": null,
   "id": "bcdf5035-7338-4213-a04c-400bbe3f9b0b",
   "metadata": {},
   "outputs": [],
   "source": [
    "# now range"
   ]
  },
  {
   "cell_type": "code",
   "execution_count": 31,
   "id": "a96dc08a-47fa-448f-8932-cc5ad4e94f0d",
   "metadata": {},
   "outputs": [
    {
     "data": {
      "text/plain": [
       "range(0, 8)"
      ]
     },
     "execution_count": 31,
     "metadata": {},
     "output_type": "execute_result"
    }
   ],
   "source": [
    "range(8)"
   ]
  },
  {
   "cell_type": "code",
   "execution_count": 34,
   "id": "a2225dd3-9bfd-4647-9880-f9a97f613a50",
   "metadata": {},
   "outputs": [
    {
     "data": {
      "text/plain": [
       "range(0, 8)"
      ]
     },
     "execution_count": 34,
     "metadata": {},
     "output_type": "execute_result"
    }
   ],
   "source": [
    "r = range(8)\n",
    "r"
   ]
  },
  {
   "cell_type": "code",
   "execution_count": 35,
   "id": "178aeff6-1803-4049-bf87-9073fa23953b",
   "metadata": {},
   "outputs": [
    {
     "name": "stdout",
     "output_type": "stream",
     "text": [
      "0\n",
      "1\n",
      "2\n",
      "3\n",
      "4\n",
      "5\n",
      "6\n",
      "7\n"
     ]
    }
   ],
   "source": [
    "for i in r:\n",
    "    print(i)"
   ]
  },
  {
   "cell_type": "code",
   "execution_count": 36,
   "id": "1c0016fb-f86e-4c11-979c-463548306a25",
   "metadata": {},
   "outputs": [
    {
     "data": {
      "text/plain": [
       "[0, 1, 2, 3, 4, 5, 6, 7]"
      ]
     },
     "execution_count": 36,
     "metadata": {},
     "output_type": "execute_result"
    }
   ],
   "source": [
    "list(r)"
   ]
  },
  {
   "cell_type": "code",
   "execution_count": 38,
   "id": "254d73b1-621a-4630-8501-5556c5221a22",
   "metadata": {},
   "outputs": [
    {
     "data": {
      "text/plain": [
       "range(20, 30)"
      ]
     },
     "execution_count": 38,
     "metadata": {},
     "output_type": "execute_result"
    }
   ],
   "source": [
    "r1 = range(20,30)\n",
    "r1"
   ]
  },
  {
   "cell_type": "code",
   "execution_count": 40,
   "id": "9bd481db-cfa6-4f44-ba98-cafab89f06ef",
   "metadata": {},
   "outputs": [
    {
     "data": {
      "text/plain": [
       "[20, 21, 22, 23, 24, 25, 26, 27, 28, 29]"
      ]
     },
     "execution_count": 40,
     "metadata": {},
     "output_type": "execute_result"
    }
   ],
   "source": [
    "list(r1)"
   ]
  },
  {
   "cell_type": "code",
   "execution_count": 41,
   "id": "b59b9fa4-cdfa-4db4-978f-4c04fb4f3746",
   "metadata": {},
   "outputs": [
    {
     "name": "stdout",
     "output_type": "stream",
     "text": [
      "range(20, 30)\n",
      "range(20, 30)\n",
      "range(20, 30)\n",
      "range(20, 30)\n",
      "range(20, 30)\n",
      "range(20, 30)\n",
      "range(20, 30)\n",
      "range(20, 30)\n",
      "range(20, 30)\n",
      "range(20, 30)\n"
     ]
    }
   ],
   "source": [
    "for i in r1:\n",
    "    print(r1)"
   ]
  },
  {
   "cell_type": "code",
   "execution_count": 42,
   "id": "8186579d-594d-462a-a145-0742359a328e",
   "metadata": {},
   "outputs": [
    {
     "data": {
      "text/plain": [
       "[0, 1, 2, 3, 4, 5, 6, 7]"
      ]
     },
     "execution_count": 42,
     "metadata": {},
     "output_type": "execute_result"
    }
   ],
   "source": [
    "list(range(0,8))"
   ]
  },
  {
   "cell_type": "code",
   "execution_count": 43,
   "id": "a1190885-287f-42e6-abc6-5ebbf32a5926",
   "metadata": {},
   "outputs": [
    {
     "data": {
      "text/plain": [
       "[20, 21, 22, 23, 24, 25, 26, 27, 28, 29]"
      ]
     },
     "execution_count": 43,
     "metadata": {},
     "output_type": "execute_result"
    }
   ],
   "source": [
    "list(range(20,30))"
   ]
  },
  {
   "cell_type": "code",
   "execution_count": 45,
   "id": "6b23c3f7-eeff-4d07-aa5b-700911382396",
   "metadata": {},
   "outputs": [
    {
     "data": {
      "text/plain": [
       "[10, 20, 30, 40, 50, 60, 70, 80, 90]"
      ]
     },
     "execution_count": 45,
     "metadata": {},
     "output_type": "execute_result"
    }
   ],
   "source": [
    "list(range(10,100,10))"
   ]
  },
  {
   "cell_type": "code",
   "execution_count": 51,
   "id": "a3adb068-d421-4384-9031-a0a23a721c27",
   "metadata": {},
   "outputs": [
    {
     "data": {
      "text/plain": [
       "[20, 40, 60, 80]"
      ]
     },
     "execution_count": 51,
     "metadata": {},
     "output_type": "execute_result"
    }
   ],
   "source": [
    "list(range(20,100,20))"
   ]
  },
  {
   "cell_type": "markdown",
   "id": "53a83815-38be-4858-b756-511188feb80f",
   "metadata": {},
   "source": [
    "# set "
   ]
  },
  {
   "cell_type": "code",
   "execution_count": 52,
   "id": "12a6d967-6ec4-4536-aa36-43b132631140",
   "metadata": {},
   "outputs": [
    {
     "data": {
      "text/plain": [
       "{1, 2, 3, 4, 5, 6, 7}"
      ]
     },
     "execution_count": 52,
     "metadata": {},
     "output_type": "execute_result"
    }
   ],
   "source": [
    "set = {1,2,3,4,5,6,7}\n",
    "set"
   ]
  },
  {
   "cell_type": "code",
   "execution_count": 53,
   "id": "971ff939-aae7-45dc-8132-9a9646ce0249",
   "metadata": {},
   "outputs": [
    {
     "data": {
      "text/plain": [
       "7"
      ]
     },
     "execution_count": 53,
     "metadata": {},
     "output_type": "execute_result"
    }
   ],
   "source": [
    "len(set)"
   ]
  },
  {
   "cell_type": "code",
   "execution_count": 56,
   "id": "aec93d39-6ca3-4b7c-9122-7fdb050fc456",
   "metadata": {},
   "outputs": [
    {
     "name": "stdout",
     "output_type": "stream",
     "text": [
      "1\n",
      "2\n",
      "3\n",
      "4\n",
      "5\n",
      "6\n",
      "7\n"
     ]
    }
   ],
   "source": [
    "for i in set:\n",
    "    print(i)\n"
   ]
  },
  {
   "cell_type": "code",
   "execution_count": 58,
   "id": "2facabd0-8960-4edf-a093-4adf09ca5844",
   "metadata": {},
   "outputs": [
    {
     "data": {
      "text/plain": [
       "{}"
      ]
     },
     "execution_count": 58,
     "metadata": {},
     "output_type": "execute_result"
    }
   ],
   "source": [
    "s1 = {}\n",
    "s1"
   ]
  },
  {
   "cell_type": "code",
   "execution_count": 59,
   "id": "e10c859f-5aed-4476-bac3-aaff51cc530d",
   "metadata": {},
   "outputs": [
    {
     "data": {
      "text/plain": [
       "{'fun', 'hello', 'hi', 'wealth'}"
      ]
     },
     "execution_count": 59,
     "metadata": {},
     "output_type": "execute_result"
    }
   ],
   "source": [
    "s1 = {'hi','hello','fun','wealth',}\n",
    "s1"
   ]
  },
  {
   "cell_type": "raw",
   "id": "60d3cbfa-aa7d-47f2-a1f2-1d056bb20de6",
   "metadata": {},
   "source": []
  },
  {
   "cell_type": "code",
   "execution_count": 62,
   "id": "4b345145-0279-4f63-a748-c0cc6068c69a",
   "metadata": {},
   "outputs": [
    {
     "name": "stdout",
     "output_type": "stream",
     "text": [
      "{'hi', 'fun', 'hello', 'wealth'}\n",
      "{'hi', 'fun', 'hello', 'wealth'}\n",
      "{'hi', 'fun', 'hello', 'wealth'}\n",
      "{'hi', 'fun', 'hello', 'wealth'}\n"
     ]
    }
   ],
   "source": [
    "for i in enumerate(s1):\n",
    "    print(s1)"
   ]
  },
  {
   "cell_type": "code",
   "execution_count": null,
   "id": "647bf829-c5f4-4745-9207-fe338c45c15d",
   "metadata": {},
   "outputs": [],
   "source": []
  }
 ],
 "metadata": {
  "kernelspec": {
   "display_name": "Python [conda env:base] *",
   "language": "python",
   "name": "conda-base-py"
  },
  "language_info": {
   "codemirror_mode": {
    "name": "ipython",
    "version": 3
   },
   "file_extension": ".py",
   "mimetype": "text/x-python",
   "name": "python",
   "nbconvert_exporter": "python",
   "pygments_lexer": "ipython3",
   "version": "3.12.7"
  }
 },
 "nbformat": 4,
 "nbformat_minor": 5
}
