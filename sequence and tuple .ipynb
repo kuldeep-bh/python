{
 "cells": [
  {
   "cell_type": "code",
   "execution_count": 1,
   "id": "a0ac4111-f9a9-45a5-a451-51f86fc0e9eb",
   "metadata": {},
   "outputs": [
    {
     "name": "stdout",
     "output_type": "stream",
     "text": [
      "line1\n",
      "line2\n"
     ]
    }
   ],
   "source": [
    "print('line1\\nline2')"
   ]
  },
  {
   "cell_type": "code",
   "execution_count": 2,
   "id": "92ebf51f-3684-4a26-9657-d4d876ed362e",
   "metadata": {},
   "outputs": [
    {
     "name": "stdout",
     "output_type": "stream",
     "text": [
      "line1\\line2\n"
     ]
    }
   ],
   "source": [
    "print('line1\\\\line2')"
   ]
  },
  {
   "cell_type": "markdown",
   "id": "fc11a921-1904-475a-bbe4-8459a9cff69f",
   "metadata": {},
   "source": [
    "# tuple"
   ]
  },
  {
   "cell_type": "code",
   "execution_count": 3,
   "id": "6841cf63-7af0-4f60-93aa-5a2c32082700",
   "metadata": {},
   "outputs": [
    {
     "data": {
      "text/plain": [
       "()"
      ]
     },
     "execution_count": 3,
     "metadata": {},
     "output_type": "execute_result"
    }
   ],
   "source": [
    "t1 = ()\n",
    "t1"
   ]
  },
  {
   "cell_type": "code",
   "execution_count": 4,
   "id": "575aa4cd-231a-4945-b526-69e35a9c4a02",
   "metadata": {},
   "outputs": [
    {
     "data": {
      "text/plain": [
       "(10, 20, 30, 40)"
      ]
     },
     "execution_count": 4,
     "metadata": {},
     "output_type": "execute_result"
    }
   ],
   "source": [
    "t2 = (10,20,30,40,)\n",
    "t2"
   ]
  },
  {
   "cell_type": "code",
   "execution_count": 5,
   "id": "521f1615-cb3b-40a7-92ac-24dea54abd0e",
   "metadata": {},
   "outputs": [
    {
     "data": {
      "text/plain": [
       "(3.14, 4.23, 5.34, 6.47)"
      ]
     },
     "execution_count": 5,
     "metadata": {},
     "output_type": "execute_result"
    }
   ],
   "source": [
    "t3 = (3.14,4.23,5.34,6.47)\n",
    "t3"
   ]
  },
  {
   "cell_type": "code",
   "execution_count": 6,
   "id": "5e9a79af-18a2-4b29-8dd4-f2f6aea2c805",
   "metadata": {},
   "outputs": [
    {
     "data": {
      "text/plain": [
       "('hello', 'hi', 'where', 'how')"
      ]
     },
     "execution_count": 6,
     "metadata": {},
     "output_type": "execute_result"
    }
   ],
   "source": [
    "t4 = ('hello','hi','where','how')\n",
    "t4"
   ]
  },
  {
   "cell_type": "code",
   "execution_count": 7,
   "id": "46f34dee-9327-4209-8148-1b75bbc681f8",
   "metadata": {},
   "outputs": [
    {
     "data": {
      "text/plain": [
       "(10, 20, (10, 20), (30, 40))"
      ]
     },
     "execution_count": 7,
     "metadata": {},
     "output_type": "execute_result"
    }
   ],
   "source": [
    "t5 = (10,20,(10,20),(30,40))\n",
    "t5"
   ]
  },
  {
   "cell_type": "code",
   "execution_count": 8,
   "id": "bb6256d8-8d6f-4b60-a77a-3f82110a53da",
   "metadata": {},
   "outputs": [
    {
     "data": {
      "text/plain": [
       "('asif', 40, 4.14)"
      ]
     },
     "execution_count": 8,
     "metadata": {},
     "output_type": "execute_result"
    }
   ],
   "source": [
    "t6 = ('asif',40,4.14)\n",
    "t6"
   ]
  },
  {
   "cell_type": "code",
   "execution_count": 9,
   "id": "2bd9d13d-5eb0-463f-ac6e-fe512ef84fa5",
   "metadata": {},
   "outputs": [
    {
     "data": {
      "text/plain": [
       "('aman',\n",
       " 20,\n",
       " (30, 50),\n",
       " {'ajay', 'arvind'},\n",
       " (30, 40, 50),\n",
       " (43, 56, 768, 435, 67))"
      ]
     },
     "execution_count": 9,
     "metadata": {},
     "output_type": "execute_result"
    }
   ],
   "source": [
    "t7 = ('aman',20,(30,50),{'arvind','ajay'},(30,40,50),(43,56,768,435,67))\n",
    "t7"
   ]
  },
  {
   "cell_type": "markdown",
   "id": "76bfd9bd-ba9d-4f91-afc6-5e246425da47",
   "metadata": {},
   "source": [
    "#tuple indexing"
   ]
  },
  {
   "cell_type": "code",
   "execution_count": 10,
   "id": "b2e99373-b03c-455b-b16c-7f37a6804293",
   "metadata": {},
   "outputs": [
    {
     "data": {
      "text/plain": [
       "10"
      ]
     },
     "execution_count": 10,
     "metadata": {},
     "output_type": "execute_result"
    }
   ],
   "source": [
    "t2[0]"
   ]
  },
  {
   "cell_type": "code",
   "execution_count": 12,
   "id": "16336eae-2388-4fb6-87b0-2a0dfe6f8c9b",
   "metadata": {},
   "outputs": [
    {
     "data": {
      "text/plain": [
       "'w'"
      ]
     },
     "execution_count": 12,
     "metadata": {},
     "output_type": "execute_result"
    }
   ],
   "source": [
    "t4[3][2]"
   ]
  },
  {
   "cell_type": "code",
   "execution_count": 16,
   "id": "4c6049ff-1775-4817-97f9-02ab8779738d",
   "metadata": {},
   "outputs": [
    {
     "data": {
      "text/plain": [
       "50"
      ]
     },
     "execution_count": 16,
     "metadata": {},
     "output_type": "execute_result"
    }
   ],
   "source": [
    "t7[4][2]"
   ]
  },
  {
   "cell_type": "code",
   "execution_count": 22,
   "id": "fb17a627-aed9-4075-ae2e-59e0a007a5af",
   "metadata": {},
   "outputs": [
    {
     "data": {
      "text/plain": [
       "(10, 20)"
      ]
     },
     "execution_count": 22,
     "metadata": {},
     "output_type": "execute_result"
    }
   ],
   "source": [
    "t5[-2]"
   ]
  },
  {
   "cell_type": "markdown",
   "id": "75dd32ac-7788-4d05-a50e-74d226e3dd30",
   "metadata": {},
   "source": [
    "# tuple slicing"
   ]
  },
  {
   "cell_type": "code",
   "execution_count": 23,
   "id": "c824ca13-08b6-426d-9c25-038b9e9805e5",
   "metadata": {},
   "outputs": [
    {
     "data": {
      "text/plain": [
       "(10, 20)"
      ]
     },
     "execution_count": 23,
     "metadata": {},
     "output_type": "execute_result"
    }
   ],
   "source": [
    "t2[:2]"
   ]
  },
  {
   "cell_type": "code",
   "execution_count": 24,
   "id": "341b3efb-35e5-4cd0-a07d-c97e3048b971",
   "metadata": {},
   "outputs": [
    {
     "data": {
      "text/plain": [
       "('hello', 'hi', 'where')"
      ]
     },
     "execution_count": 24,
     "metadata": {},
     "output_type": "execute_result"
    }
   ],
   "source": [
    "t4[:3]"
   ]
  },
  {
   "cell_type": "code",
   "execution_count": 25,
   "id": "1a561608-69ee-466f-99b2-9f89437df049",
   "metadata": {},
   "outputs": [
    {
     "data": {
      "text/plain": [
       "('aman', (30, 50), (30, 40, 50))"
      ]
     },
     "execution_count": 25,
     "metadata": {},
     "output_type": "execute_result"
    }
   ],
   "source": [
    "t7[::2]"
   ]
  },
  {
   "cell_type": "code",
   "execution_count": 26,
   "id": "3f05cfc1-bd00-4288-bb5e-57a7e0950f2c",
   "metadata": {},
   "outputs": [
    {
     "data": {
      "text/plain": [
       "(43, 56, 768, 435, 67)"
      ]
     },
     "execution_count": 26,
     "metadata": {},
     "output_type": "execute_result"
    }
   ],
   "source": [
    "t7[-1]"
   ]
  },
  {
   "cell_type": "code",
   "execution_count": 28,
   "id": "7ccae98b-7ce6-43c3-9cb3-8a77d13b870c",
   "metadata": {},
   "outputs": [
    {
     "data": {
      "text/plain": [
       "('aman',\n",
       " 20,\n",
       " (30, 50),\n",
       " {'ajay', 'arvind'},\n",
       " (30, 40, 50),\n",
       " (43, 56, 768, 435, 67))"
      ]
     },
     "execution_count": 28,
     "metadata": {},
     "output_type": "execute_result"
    }
   ],
   "source": [
    "t7[:]"
   ]
  },
  {
   "cell_type": "markdown",
   "id": "fd3ff3e7-315c-4440-977b-d2a9d88b6732",
   "metadata": {},
   "source": [
    "# loop through a toople"
   ]
  },
  {
   "cell_type": "code",
   "execution_count": 29,
   "id": "0f924104-8a2d-4d08-8974-d90053ce5c13",
   "metadata": {},
   "outputs": [
    {
     "data": {
      "text/plain": [
       "('hello', 'hi', 'where', 'how')"
      ]
     },
     "execution_count": 29,
     "metadata": {},
     "output_type": "execute_result"
    }
   ],
   "source": [
    "t4"
   ]
  },
  {
   "cell_type": "code",
   "execution_count": 32,
   "id": "8ceb1187-72e0-4499-a7ce-9a6c5dbd079d",
   "metadata": {},
   "outputs": [
    {
     "name": "stdout",
     "output_type": "stream",
     "text": [
      "('hello', 'hi', 'where', 'how')\n",
      "('hello', 'hi', 'where', 'how')\n",
      "('hello', 'hi', 'where', 'how')\n",
      "('hello', 'hi', 'where', 'how')\n"
     ]
    }
   ],
   "source": [
    "for i in t4:\n",
    "    print(t4)"
   ]
  },
  {
   "cell_type": "code",
   "execution_count": 33,
   "id": "1dcf6f5e-7c2b-4808-9b4b-e6914d418e9e",
   "metadata": {},
   "outputs": [
    {
     "data": {
      "text/plain": [
       "('aman',\n",
       " 20,\n",
       " (30, 50),\n",
       " {'ajay', 'arvind'},\n",
       " (30, 40, 50),\n",
       " (43, 56, 768, 435, 67))"
      ]
     },
     "execution_count": 33,
     "metadata": {},
     "output_type": "execute_result"
    }
   ],
   "source": [
    "t7"
   ]
  },
  {
   "cell_type": "code",
   "execution_count": 34,
   "id": "ae481899-4b8d-48a9-8950-dc6d20a0a1a0",
   "metadata": {},
   "outputs": [
    {
     "name": "stdout",
     "output_type": "stream",
     "text": [
      "('aman', 20, (30, 50), {'ajay', 'arvind'}, (30, 40, 50), (43, 56, 768, 435, 67))\n",
      "('aman', 20, (30, 50), {'ajay', 'arvind'}, (30, 40, 50), (43, 56, 768, 435, 67))\n",
      "('aman', 20, (30, 50), {'ajay', 'arvind'}, (30, 40, 50), (43, 56, 768, 435, 67))\n",
      "('aman', 20, (30, 50), {'ajay', 'arvind'}, (30, 40, 50), (43, 56, 768, 435, 67))\n",
      "('aman', 20, (30, 50), {'ajay', 'arvind'}, (30, 40, 50), (43, 56, 768, 435, 67))\n",
      "('aman', 20, (30, 50), {'ajay', 'arvind'}, (30, 40, 50), (43, 56, 768, 435, 67))\n"
     ]
    }
   ],
   "source": [
    "for i in t7:\n",
    "    print(t7)"
   ]
  },
  {
   "cell_type": "code",
   "execution_count": 36,
   "id": "e3e0262f-a611-4815-9d73-b1772ec99fb9",
   "metadata": {},
   "outputs": [
    {
     "name": "stdout",
     "output_type": "stream",
     "text": [
      "(0, 'aman')\n",
      "(1, 20)\n",
      "(2, (30, 50))\n",
      "(3, {'ajay', 'arvind'})\n",
      "(4, (30, 40, 50))\n",
      "(5, (43, 56, 768, 435, 67))\n"
     ]
    }
   ],
   "source": [
    "for i in enumerate (t7):\n",
    "    print(i)"
   ]
  },
  {
   "cell_type": "markdown",
   "id": "dc09b32a-d661-4c37-968a-03c656d94f5a",
   "metadata": {},
   "source": [
    "# tuple membership"
   ]
  },
  {
   "cell_type": "code",
   "execution_count": 37,
   "id": "cee271ca-2e64-4c49-acc1-c5a8cdd3ae69",
   "metadata": {},
   "outputs": [
    {
     "data": {
      "text/plain": [
       "('hello', 'hi', 'where', 'how')"
      ]
     },
     "execution_count": 37,
     "metadata": {},
     "output_type": "execute_result"
    }
   ],
   "source": [
    "t4"
   ]
  },
  {
   "cell_type": "code",
   "execution_count": 38,
   "id": "0b0e7498-8a0b-4b62-b6c7-4d8d3e936fc2",
   "metadata": {},
   "outputs": [
    {
     "data": {
      "text/plain": [
       "True"
      ]
     },
     "execution_count": 38,
     "metadata": {},
     "output_type": "execute_result"
    }
   ],
   "source": [
    "'hello' in t4"
   ]
  },
  {
   "cell_type": "code",
   "execution_count": 39,
   "id": "173e72ca-a47e-4780-8dfe-3ee235d532ac",
   "metadata": {},
   "outputs": [
    {
     "name": "stdout",
     "output_type": "stream",
     "text": [
      " hello is present in the t4\n"
     ]
    }
   ],
   "source": [
    "if 'hello' in t4:\n",
    "    print(' hello is present in the t4')\n",
    "else:\n",
    "    print('hello is not present in the t4')"
   ]
  },
  {
   "cell_type": "code",
   "execution_count": 41,
   "id": "0e0fd08b-7f4b-40fe-9197-704d12011a4e",
   "metadata": {},
   "outputs": [
    {
     "data": {
      "text/plain": [
       "(10, 20, 30, 40)"
      ]
     },
     "execution_count": 41,
     "metadata": {},
     "output_type": "execute_result"
    }
   ],
   "source": [
    "t2"
   ]
  },
  {
   "cell_type": "code",
   "execution_count": 42,
   "id": "bef86830-af91-4cff-8b04-590d1974b082",
   "metadata": {},
   "outputs": [
    {
     "name": "stdout",
     "output_type": "stream",
     "text": [
      "10 is present\n"
     ]
    }
   ],
   "source": [
    "if 10 in t2:\n",
    "    print('10 is present')\n",
    "else:\n",
    "    print('10 is not present')"
   ]
  },
  {
   "cell_type": "code",
   "execution_count": 43,
   "id": "bbb1d48c-ed51-4d76-bb07-4ee41f804b2d",
   "metadata": {},
   "outputs": [
    {
     "data": {
      "text/plain": [
       "('hello', 'hi', 'where', 'how')"
      ]
     },
     "execution_count": 43,
     "metadata": {},
     "output_type": "execute_result"
    }
   ],
   "source": [
    "t4"
   ]
  },
  {
   "cell_type": "code",
   "execution_count": 47,
   "id": "37331497-19ed-4056-9704-b2649921ab4c",
   "metadata": {},
   "outputs": [
    {
     "data": {
      "text/plain": [
       "0"
      ]
     },
     "execution_count": 47,
     "metadata": {},
     "output_type": "execute_result"
    }
   ],
   "source": [
    "t4.index('hello')"
   ]
  },
  {
   "cell_type": "code",
   "execution_count": 48,
   "id": "0d92160e-143a-46a7-969d-e23d626126ee",
   "metadata": {},
   "outputs": [
    {
     "data": {
      "text/plain": [
       "[]"
      ]
     },
     "execution_count": 48,
     "metadata": {},
     "output_type": "execute_result"
    }
   ],
   "source": [
    "t9 = []\n",
    "t9"
   ]
  },
  {
   "cell_type": "code",
   "execution_count": 49,
   "id": "ac4cb152-8c9b-4bb3-84c5-5aa2a146363f",
   "metadata": {},
   "outputs": [
    {
     "data": {
      "text/plain": [
       "(10, 566, 39, 20, 46, 346, 458934)"
      ]
     },
     "execution_count": 49,
     "metadata": {},
     "output_type": "execute_result"
    }
   ],
   "source": [
    "t9 = (10,566,39,20,46,346,458934)\n",
    "t9"
   ]
  },
  {
   "cell_type": "code",
   "execution_count": 50,
   "id": "d00cf697-fad3-44bc-8121-ee80b4ceb0ae",
   "metadata": {},
   "outputs": [
    {
     "data": {
      "text/plain": [
       "[10, 20, 39, 46, 346, 566, 458934]"
      ]
     },
     "execution_count": 50,
     "metadata": {},
     "output_type": "execute_result"
    }
   ],
   "source": [
    "sorted(t9)"
   ]
  },
  {
   "cell_type": "code",
   "execution_count": null,
   "id": "0b1fa374-478c-4df5-a86c-b1f0594fff0e",
   "metadata": {},
   "outputs": [],
   "source": []
  },
  {
   "cell_type": "code",
   "execution_count": null,
   "id": "a22eeb22-d99e-44dd-9866-9f6fdc72c446",
   "metadata": {},
   "outputs": [],
   "source": []
  }
 ],
 "metadata": {
  "kernelspec": {
   "display_name": "Python [conda env:base] *",
   "language": "python",
   "name": "conda-base-py"
  },
  "language_info": {
   "codemirror_mode": {
    "name": "ipython",
    "version": 3
   },
   "file_extension": ".py",
   "mimetype": "text/x-python",
   "name": "python",
   "nbconvert_exporter": "python",
   "pygments_lexer": "ipython3",
   "version": "3.12.7"
  }
 },
 "nbformat": 4,
 "nbformat_minor": 5
}
