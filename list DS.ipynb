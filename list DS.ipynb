{
 "cells": [
  {
   "cell_type": "code",
   "execution_count": 1,
   "id": "27e21238-449b-4665-91d8-8635be2274e7",
   "metadata": {},
   "outputs": [
    {
     "data": {
      "text/plain": [
       "int"
      ]
     },
     "execution_count": 1,
     "metadata": {},
     "output_type": "execute_result"
    }
   ],
   "source": [
    "a = 5\n",
    "type(a)"
   ]
  },
  {
   "cell_type": "code",
   "execution_count": 2,
   "id": "a84001b2-94db-4a0e-b5ae-948909ec9bcd",
   "metadata": {},
   "outputs": [
    {
     "data": {
      "text/plain": [
       "float"
      ]
     },
     "execution_count": 2,
     "metadata": {},
     "output_type": "execute_result"
    }
   ],
   "source": [
    "b = 5.5\n",
    "type(b)"
   ]
  },
  {
   "cell_type": "code",
   "execution_count": 3,
   "id": "ee407b26-f0fc-4bb4-84a3-fbd7fce103b4",
   "metadata": {},
   "outputs": [
    {
     "data": {
      "text/plain": [
       "str"
      ]
     },
     "execution_count": 3,
     "metadata": {},
     "output_type": "execute_result"
    }
   ],
   "source": [
    "c = 'nit'\n",
    "type(c)"
   ]
  },
  {
   "cell_type": "code",
   "execution_count": 5,
   "id": "ca67248a-3459-4b42-8223-624490ec99d6",
   "metadata": {},
   "outputs": [
    {
     "data": {
      "text/plain": [
       "complex"
      ]
     },
     "execution_count": 5,
     "metadata": {},
     "output_type": "execute_result"
    }
   ],
   "source": [
    "d = 1+2j\n",
    "type(d)"
   ]
  },
  {
   "cell_type": "code",
   "execution_count": 6,
   "id": "4ee2db52-c696-4429-b6cf-378a2cd6be16",
   "metadata": {},
   "outputs": [
    {
     "data": {
      "text/plain": [
       "bool"
      ]
     },
     "execution_count": 6,
     "metadata": {},
     "output_type": "execute_result"
    }
   ],
   "source": [
    "e = True\n",
    "type(e)"
   ]
  },
  {
   "cell_type": "markdown",
   "id": "c765ef5b-bf6c-4607-8a02-19c965c38ce9",
   "metadata": {},
   "source": [
    "#data structure"
   ]
  },
  {
   "cell_type": "code",
   "execution_count": 7,
   "id": "3b3735b3-5c26-4b49-a01e-e940aa35e729",
   "metadata": {},
   "outputs": [
    {
     "data": {
      "text/plain": [
       "[]"
      ]
     },
     "execution_count": 7,
     "metadata": {},
     "output_type": "execute_result"
    }
   ],
   "source": [
    "l = []\n",
    "l"
   ]
  },
  {
   "cell_type": "code",
   "execution_count": 8,
   "id": "7ce8bcfe-e6ca-4dff-b6fe-3ddf51dd383a",
   "metadata": {},
   "outputs": [
    {
     "data": {
      "text/plain": [
       "list"
      ]
     },
     "execution_count": 8,
     "metadata": {},
     "output_type": "execute_result"
    }
   ],
   "source": [
    "type(l)"
   ]
  },
  {
   "cell_type": "code",
   "execution_count": 9,
   "id": "1a39db8a-3fa4-4edc-9890-2fe3f18bcaa9",
   "metadata": {},
   "outputs": [
    {
     "data": {
      "text/plain": [
       "[10, 20]"
      ]
     },
     "execution_count": 9,
     "metadata": {},
     "output_type": "execute_result"
    }
   ],
   "source": [
    "l.append(10)\n",
    "l.append(20)\n",
    "l"
   ]
  },
  {
   "cell_type": "code",
   "execution_count": 11,
   "id": "fa6c964c-4fbb-437e-90c0-a1395e4d781f",
   "metadata": {},
   "outputs": [],
   "source": [
    "l.append(30)\n",
    "l.append(40)\n",
    "l.append(10)"
   ]
  },
  {
   "cell_type": "code",
   "execution_count": 12,
   "id": "90c31605-2a4e-4bcb-92e5-4ffe3cbc1490",
   "metadata": {},
   "outputs": [
    {
     "data": {
      "text/plain": [
       "[10, 20, 30, 40, 10]"
      ]
     },
     "execution_count": 12,
     "metadata": {},
     "output_type": "execute_result"
    }
   ],
   "source": [
    "l"
   ]
  },
  {
   "cell_type": "code",
   "execution_count": 13,
   "id": "7682cdfc-b854-4245-a801-a42a47da387c",
   "metadata": {},
   "outputs": [
    {
     "data": {
      "text/plain": [
       "5"
      ]
     },
     "execution_count": 13,
     "metadata": {},
     "output_type": "execute_result"
    }
   ],
   "source": [
    "len(l)"
   ]
  },
  {
   "cell_type": "code",
   "execution_count": null,
   "id": "4b249646-a537-4c64-9a93-8648dd8d4410",
   "metadata": {},
   "outputs": [],
   "source": [
    "l10 = []"
   ]
  },
  {
   "cell_type": "code",
   "execution_count": 15,
   "id": "e3b84a8e-b454-4fa3-8277-28d17502ede0",
   "metadata": {},
   "outputs": [
    {
     "data": {
      "text/plain": [
       "[10, 20, 30, 40, 10]"
      ]
     },
     "execution_count": 15,
     "metadata": {},
     "output_type": "execute_result"
    }
   ],
   "source": [
    "l10 = l.copy()\n",
    "l10"
   ]
  },
  {
   "cell_type": "code",
   "execution_count": 16,
   "id": "b4d3d6b4-5c1c-44c4-9d69-7c083b004dbe",
   "metadata": {},
   "outputs": [
    {
     "data": {
      "text/plain": [
       "True"
      ]
     },
     "execution_count": 16,
     "metadata": {},
     "output_type": "execute_result"
    }
   ],
   "source": [
    "l == l10"
   ]
  },
  {
   "cell_type": "code",
   "execution_count": 17,
   "id": "edeb0489-fe92-48ed-8cab-239f3e647f44",
   "metadata": {},
   "outputs": [
    {
     "name": "stdout",
     "output_type": "stream",
     "text": [
      "[10, 20, 30, 40, 10]\n",
      "[10, 20, 30, 40, 10]\n"
     ]
    }
   ],
   "source": [
    "print(l)\n",
    "print(l10)"
   ]
  },
  {
   "cell_type": "code",
   "execution_count": 19,
   "id": "583389f6-4b1e-412c-83b5-028041f3b4ab",
   "metadata": {},
   "outputs": [],
   "source": [
    "l9 = []"
   ]
  },
  {
   "cell_type": "code",
   "execution_count": 23,
   "id": "05e1ef76-0fa0-4ec0-b98b-d240deaac861",
   "metadata": {},
   "outputs": [],
   "source": [
    "l9.append(2)\n",
    "l9.append('nit')\n",
    "l9.append(True)\n",
    "l9.append(1+2j)\n",
    "l9.append([1,2,3])"
   ]
  },
  {
   "cell_type": "code",
   "execution_count": 25,
   "id": "d8c0a6cc-0e88-46be-940d-917e742b4493",
   "metadata": {},
   "outputs": [
    {
     "name": "stdout",
     "output_type": "stream",
     "text": [
      "[2.3, 'nit', True, (1+2j), [1, 2, 3], 2.3, 'nit', True, (1+2j), [1, 2, 3], 2.3, 'nit', True, (1+2j), [1, 2, 3], 2, 'nit', True, (1+2j), [1, 2, 3]]\n"
     ]
    }
   ],
   "source": [
    "print(l9)"
   ]
  },
  {
   "cell_type": "code",
   "execution_count": 26,
   "id": "4f46b16b-3e26-480a-8e6c-8e6b133dbb1e",
   "metadata": {},
   "outputs": [
    {
     "name": "stdout",
     "output_type": "stream",
     "text": [
      "[10, 20, 30, 40, 10]\n",
      "[10, 20, 30, 40, 10]\n",
      "[2.3, 'nit', True, (1+2j), [1, 2, 3], 2.3, 'nit', True, (1+2j), [1, 2, 3], 2.3, 'nit', True, (1+2j), [1, 2, 3], 2, 'nit', True, (1+2j), [1, 2, 3]]\n"
     ]
    }
   ],
   "source": [
    "print(l)\n",
    "print(l10)\n",
    "print(l9)"
   ]
  },
  {
   "cell_type": "code",
   "execution_count": 28,
   "id": "6661a258-f1a7-45cc-849f-40b372e9bc82",
   "metadata": {},
   "outputs": [
    {
     "name": "stdout",
     "output_type": "stream",
     "text": [
      "5\n",
      "5\n",
      "20\n"
     ]
    }
   ],
   "source": [
    "print(len(l))\n",
    "print(len(l10))\n",
    "print(len(l9))"
   ]
  },
  {
   "cell_type": "code",
   "execution_count": 29,
   "id": "13545c4c-a568-41a9-bf56-340cb5782855",
   "metadata": {},
   "outputs": [
    {
     "name": "stdout",
     "output_type": "stream",
     "text": [
      "1720856539136\n",
      "1720858150784\n",
      "1720869968640\n"
     ]
    }
   ],
   "source": [
    "print(id(l))\n",
    "print(id(l10))\n",
    "print(id(l9))"
   ]
  },
  {
   "cell_type": "code",
   "execution_count": 30,
   "id": "303e27c6-6bb0-4099-8a3f-fbbbbc8702b0",
   "metadata": {},
   "outputs": [
    {
     "data": {
      "text/plain": [
       "[10, 20, 30, 40, 10]"
      ]
     },
     "execution_count": 30,
     "metadata": {},
     "output_type": "execute_result"
    }
   ],
   "source": [
    "l"
   ]
  },
  {
   "cell_type": "code",
   "execution_count": 31,
   "id": "6089de33-1d59-422a-a22e-4f8f6b8b051e",
   "metadata": {},
   "outputs": [
    {
     "data": {
      "text/plain": [
       "1"
      ]
     },
     "execution_count": 31,
     "metadata": {},
     "output_type": "execute_result"
    }
   ],
   "source": [
    "l.count(20)"
   ]
  },
  {
   "cell_type": "code",
   "execution_count": 32,
   "id": "d65ee10d-b979-4524-90d1-05ee9dec62b0",
   "metadata": {},
   "outputs": [
    {
     "data": {
      "text/plain": [
       "2"
      ]
     },
     "execution_count": 32,
     "metadata": {},
     "output_type": "execute_result"
    }
   ],
   "source": [
    "l.count(10)"
   ]
  },
  {
   "cell_type": "code",
   "execution_count": 33,
   "id": "c17aed6b-b42b-4f4a-a5cf-e3728547270f",
   "metadata": {},
   "outputs": [
    {
     "data": {
      "text/plain": [
       "[2.3,\n",
       " 'nit',\n",
       " True,\n",
       " (1+2j),\n",
       " [1, 2, 3],\n",
       " 2.3,\n",
       " 'nit',\n",
       " True,\n",
       " (1+2j),\n",
       " [1, 2, 3],\n",
       " 2.3,\n",
       " 'nit',\n",
       " True,\n",
       " (1+2j),\n",
       " [1, 2, 3],\n",
       " 2,\n",
       " 'nit',\n",
       " True,\n",
       " (1+2j),\n",
       " [1, 2, 3]]"
      ]
     },
     "execution_count": 33,
     "metadata": {},
     "output_type": "execute_result"
    }
   ],
   "source": [
    "l9"
   ]
  },
  {
   "cell_type": "code",
   "execution_count": 34,
   "id": "9be0ad44-652a-4118-b92b-cd5baac8b336",
   "metadata": {},
   "outputs": [
    {
     "data": {
      "text/plain": [
       "4"
      ]
     },
     "execution_count": 34,
     "metadata": {},
     "output_type": "execute_result"
    }
   ],
   "source": [
    "l9.count('nit')"
   ]
  },
  {
   "cell_type": "code",
   "execution_count": 35,
   "id": "032e8981-3a74-4222-995b-a066225d46ad",
   "metadata": {},
   "outputs": [
    {
     "data": {
      "text/plain": [
       "[2.3,\n",
       " 'nit',\n",
       " True,\n",
       " (1+2j),\n",
       " [1, 2, 3],\n",
       " 2.3,\n",
       " 'nit',\n",
       " True,\n",
       " (1+2j),\n",
       " [1, 2, 3],\n",
       " 2.3,\n",
       " 'nit',\n",
       " True,\n",
       " (1+2j),\n",
       " [1, 2, 3],\n",
       " 2,\n",
       " 'nit',\n",
       " True,\n",
       " (1+2j),\n",
       " [1, 2, 3]]"
      ]
     },
     "execution_count": 35,
     "metadata": {},
     "output_type": "execute_result"
    }
   ],
   "source": [
    "l9"
   ]
  },
  {
   "cell_type": "code",
   "execution_count": 40,
   "id": "3628b25b-7ac2-4723-b9d7-b9cc2d2a9667",
   "metadata": {},
   "outputs": [
    {
     "data": {
      "text/plain": [
       "'nit'"
      ]
     },
     "execution_count": 40,
     "metadata": {},
     "output_type": "execute_result"
    }
   ],
   "source": [
    "l9[-4]"
   ]
  },
  {
   "cell_type": "code",
   "execution_count": 42,
   "id": "1f8f5b9e-fb42-492b-b190-f0e96bccfefa",
   "metadata": {},
   "outputs": [],
   "source": [
    "l9[0] = 230"
   ]
  },
  {
   "cell_type": "code",
   "execution_count": 43,
   "id": "a9d8f297-366f-47a3-96b0-cd1b5bc9000f",
   "metadata": {},
   "outputs": [
    {
     "data": {
      "text/plain": [
       "[230,\n",
       " 'nit',\n",
       " True,\n",
       " (1+2j),\n",
       " [1, 2, 3],\n",
       " 2.3,\n",
       " 'nit',\n",
       " True,\n",
       " (1+2j),\n",
       " [1, 2, 3],\n",
       " 2.3,\n",
       " 'nit',\n",
       " True,\n",
       " (1+2j),\n",
       " [1, 2, 3],\n",
       " 2,\n",
       " 'nit',\n",
       " True,\n",
       " (1+2j),\n",
       " [1, 2, 3]]"
      ]
     },
     "execution_count": 43,
     "metadata": {},
     "output_type": "execute_result"
    }
   ],
   "source": [
    "l9"
   ]
  },
  {
   "cell_type": "code",
   "execution_count": 44,
   "id": "07466eb3-ca4e-4b8f-bcc0-27f6f7d273de",
   "metadata": {},
   "outputs": [
    {
     "data": {
      "text/plain": [
       "[230,\n",
       " 'nit',\n",
       " True,\n",
       " (1+2j),\n",
       " [1, 2, 3],\n",
       " 2.3,\n",
       " 'nit',\n",
       " True,\n",
       " (1+2j),\n",
       " [1, 2, 3],\n",
       " 2.3,\n",
       " 'nit',\n",
       " True,\n",
       " (1+2j),\n",
       " [1, 2, 3],\n",
       " 2,\n",
       " 'nit',\n",
       " True,\n",
       " (1+2j),\n",
       " [1, 2, 3]]"
      ]
     },
     "execution_count": 44,
     "metadata": {},
     "output_type": "execute_result"
    }
   ],
   "source": [
    "l9"
   ]
  },
  {
   "cell_type": "code",
   "execution_count": 45,
   "id": "ff740045-5d9c-4d44-9358-ddfe97750c0c",
   "metadata": {},
   "outputs": [
    {
     "data": {
      "text/plain": [
       "[10, 20, 30, 40, 10]"
      ]
     },
     "execution_count": 45,
     "metadata": {},
     "output_type": "execute_result"
    }
   ],
   "source": [
    "l10"
   ]
  },
  {
   "cell_type": "code",
   "execution_count": 46,
   "id": "84d3d6a1-75ab-4f56-9d45-e92a0eed3b67",
   "metadata": {},
   "outputs": [
    {
     "data": {
      "text/plain": [
       "5"
      ]
     },
     "execution_count": 46,
     "metadata": {},
     "output_type": "execute_result"
    }
   ],
   "source": [
    "len(l10)"
   ]
  },
  {
   "cell_type": "code",
   "execution_count": 48,
   "id": "affe4c9a-ec46-415c-a349-8d140164d2bb",
   "metadata": {},
   "outputs": [],
   "source": [
    "l10.clear()"
   ]
  },
  {
   "cell_type": "code",
   "execution_count": 49,
   "id": "02c3517d-a2c2-47a5-ae0e-0b919b77bd9f",
   "metadata": {},
   "outputs": [
    {
     "data": {
      "text/plain": [
       "[]"
      ]
     },
     "execution_count": 49,
     "metadata": {},
     "output_type": "execute_result"
    }
   ],
   "source": [
    "l10"
   ]
  },
  {
   "cell_type": "code",
   "execution_count": 50,
   "id": "7984e0cb-1864-4a59-b6fa-69d6eca48ff4",
   "metadata": {},
   "outputs": [
    {
     "data": {
      "text/plain": [
       "[230,\n",
       " 'nit',\n",
       " True,\n",
       " (1+2j),\n",
       " [1, 2, 3],\n",
       " 2.3,\n",
       " 'nit',\n",
       " True,\n",
       " (1+2j),\n",
       " [1, 2, 3],\n",
       " 2.3,\n",
       " 'nit',\n",
       " True,\n",
       " (1+2j),\n",
       " [1, 2, 3],\n",
       " 2,\n",
       " 'nit',\n",
       " True,\n",
       " (1+2j),\n",
       " [1, 2, 3]]"
      ]
     },
     "execution_count": 50,
     "metadata": {},
     "output_type": "execute_result"
    }
   ],
   "source": [
    "l9"
   ]
  },
  {
   "cell_type": "code",
   "execution_count": 51,
   "id": "dc1373fe-7a06-4999-a23c-c76d31addbc3",
   "metadata": {},
   "outputs": [
    {
     "data": {
      "text/plain": [
       "[1, 2, 3]"
      ]
     },
     "execution_count": 51,
     "metadata": {},
     "output_type": "execute_result"
    }
   ],
   "source": [
    "l9.pop()"
   ]
  },
  {
   "cell_type": "code",
   "execution_count": 53,
   "id": "573cee58-9c7d-4278-b9b0-04e856be1d3a",
   "metadata": {},
   "outputs": [
    {
     "data": {
      "text/plain": [
       "[]"
      ]
     },
     "execution_count": 53,
     "metadata": {},
     "output_type": "execute_result"
    }
   ],
   "source": [
    "l10"
   ]
  },
  {
   "cell_type": "code",
   "execution_count": 54,
   "id": "0e5d5c9c-2bf4-4206-b190-73adbc39899b",
   "metadata": {},
   "outputs": [
    {
     "data": {
      "text/plain": [
       "[230,\n",
       " 'nit',\n",
       " True,\n",
       " (1+2j),\n",
       " [1, 2, 3],\n",
       " 2.3,\n",
       " 'nit',\n",
       " True,\n",
       " (1+2j),\n",
       " [1, 2, 3],\n",
       " 2.3,\n",
       " 'nit',\n",
       " True,\n",
       " (1+2j),\n",
       " [1, 2, 3],\n",
       " 2,\n",
       " 'nit',\n",
       " True,\n",
       " (1+2j)]"
      ]
     },
     "execution_count": 54,
     "metadata": {},
     "output_type": "execute_result"
    }
   ],
   "source": [
    "l9"
   ]
  },
  {
   "cell_type": "code",
   "execution_count": 57,
   "id": "09c8a492-2d58-4bfd-ad88-620d21ef5887",
   "metadata": {},
   "outputs": [
    {
     "data": {
      "text/plain": [
       "[10, 20, 30, 40, 10]"
      ]
     },
     "execution_count": 57,
     "metadata": {},
     "output_type": "execute_result"
    }
   ],
   "source": [
    "l"
   ]
  },
  {
   "cell_type": "code",
   "execution_count": 58,
   "id": "fec4350e-3e20-412d-a8b9-95bf78c7c79b",
   "metadata": {},
   "outputs": [],
   "source": [
    "l.remove(40)"
   ]
  },
  {
   "cell_type": "code",
   "execution_count": 59,
   "id": "ea1b1928-7d98-4858-90a8-a7290942bb39",
   "metadata": {},
   "outputs": [
    {
     "data": {
      "text/plain": [
       "[10, 20, 30, 10]"
      ]
     },
     "execution_count": 59,
     "metadata": {},
     "output_type": "execute_result"
    }
   ],
   "source": [
    "l"
   ]
  },
  {
   "cell_type": "code",
   "execution_count": null,
   "id": "edba9336-af2c-46c4-9332-bb0e2e7ba045",
   "metadata": {},
   "outputs": [],
   "source": []
  },
  {
   "cell_type": "code",
   "execution_count": null,
   "id": "629f243d-6ed3-4e47-8ff3-29dbac470d28",
   "metadata": {},
   "outputs": [],
   "source": []
  }
 ],
 "metadata": {
  "kernelspec": {
   "display_name": "Python [conda env:base] *",
   "language": "python",
   "name": "conda-base-py"
  },
  "language_info": {
   "codemirror_mode": {
    "name": "ipython",
    "version": 3
   },
   "file_extension": ".py",
   "mimetype": "text/x-python",
   "name": "python",
   "nbconvert_exporter": "python",
   "pygments_lexer": "ipython3",
   "version": "3.12.7"
  }
 },
 "nbformat": 4,
 "nbformat_minor": 5
}
